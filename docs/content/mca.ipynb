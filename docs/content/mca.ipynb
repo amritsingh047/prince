{
 "cells": [
  {
   "attachments": {},
   "cell_type": "markdown",
   "metadata": {},
   "source": [
    "+++\n",
    "title = \"Multiple correspondence analysis\"\n",
    "menu = \"main\"\n",
    "weight = 3\n",
    "toc = true\n",
    "aliases = [\"mca\"]\n",
    "+++"
   ]
  },
  {
   "attachments": {},
   "cell_type": "markdown",
   "metadata": {},
   "source": [
    "## Resources"
   ]
  },
  {
   "attachments": {},
   "cell_type": "markdown",
   "metadata": {},
   "source": [
    "- [*Computation of Multiple Correspondence Analysis* by Oleg Nenadić and Michael Greenacre](https://core.ac.uk/download/pdf/6591520.pdf)\n",
    "- [*Multiple Correspondence Analysis* by Hervé Abdi](https://maths.cnam.fr/IMG/pdf/ClassMCA_cle825cfc.pdf)\n",
    "- [*Multiple Correspondance Analysis - Introduction* by Vivek Yadav](https://vxy10.github.io/2016/06/10/intro-MCA/)\n",
    "- [*Multiple Correspondence Analysis* by Julien Duval](https://www.politika.io/en/notice/multiple-correspondence-analysis)"
   ]
  },
  {
   "attachments": {},
   "cell_type": "markdown",
   "metadata": {},
   "source": [
    "## Data\n",
    "\n",
    "Multiple correspondence analysis is an extension of correspondence analysis. It should be used when you have more than two categorical variables. The idea is to one-hot encode a dataset, before applying correspondence analysis to it.\n",
    "\n",
    "As an example, we're going to use the [balloons dataset](https://archive.ics.uci.edu/ml/machine-learning-databases/balloons/) taken from the [UCI datasets website](https://archive.ics.uci.edu/ml/datasets.html)."
   ]
  },
  {
   "cell_type": "code",
   "execution_count": 1,
   "metadata": {
    "execution": {
     "iopub.execute_input": "2025-08-04T17:34:43.106239Z",
     "iopub.status.busy": "2025-08-04T17:34:43.105920Z",
     "iopub.status.idle": "2025-08-04T17:34:43.682878Z",
     "shell.execute_reply": "2025-08-04T17:34:43.682219Z"
    }
   },
   "outputs": [
    {
     "data": {
      "text/html": [
       "<div>\n",
       "<style scoped>\n",
       "    .dataframe tbody tr th:only-of-type {\n",
       "        vertical-align: middle;\n",
       "    }\n",
       "\n",
       "    .dataframe tbody tr th {\n",
       "        vertical-align: top;\n",
       "    }\n",
       "\n",
       "    .dataframe thead th {\n",
       "        text-align: right;\n",
       "    }\n",
       "</style>\n",
       "<table border=\"1\" class=\"dataframe\">\n",
       "  <thead>\n",
       "    <tr style=\"text-align: right;\">\n",
       "      <th></th>\n",
       "      <th>Color</th>\n",
       "      <th>Size</th>\n",
       "      <th>Action</th>\n",
       "      <th>Age</th>\n",
       "      <th>Inflated</th>\n",
       "    </tr>\n",
       "  </thead>\n",
       "  <tbody>\n",
       "    <tr>\n",
       "      <th>0</th>\n",
       "      <td>YELLOW</td>\n",
       "      <td>SMALL</td>\n",
       "      <td>STRETCH</td>\n",
       "      <td>ADULT</td>\n",
       "      <td>T</td>\n",
       "    </tr>\n",
       "    <tr>\n",
       "      <th>1</th>\n",
       "      <td>YELLOW</td>\n",
       "      <td>SMALL</td>\n",
       "      <td>STRETCH</td>\n",
       "      <td>CHILD</td>\n",
       "      <td>F</td>\n",
       "    </tr>\n",
       "    <tr>\n",
       "      <th>2</th>\n",
       "      <td>YELLOW</td>\n",
       "      <td>SMALL</td>\n",
       "      <td>DIP</td>\n",
       "      <td>ADULT</td>\n",
       "      <td>F</td>\n",
       "    </tr>\n",
       "    <tr>\n",
       "      <th>3</th>\n",
       "      <td>YELLOW</td>\n",
       "      <td>SMALL</td>\n",
       "      <td>DIP</td>\n",
       "      <td>CHILD</td>\n",
       "      <td>F</td>\n",
       "    </tr>\n",
       "    <tr>\n",
       "      <th>4</th>\n",
       "      <td>YELLOW</td>\n",
       "      <td>LARGE</td>\n",
       "      <td>STRETCH</td>\n",
       "      <td>ADULT</td>\n",
       "      <td>T</td>\n",
       "    </tr>\n",
       "  </tbody>\n",
       "</table>\n",
       "</div>"
      ],
      "text/plain": [
       "    Color   Size   Action    Age Inflated\n",
       "0  YELLOW  SMALL  STRETCH  ADULT        T\n",
       "1  YELLOW  SMALL  STRETCH  CHILD        F\n",
       "2  YELLOW  SMALL      DIP  ADULT        F\n",
       "3  YELLOW  SMALL      DIP  CHILD        F\n",
       "4  YELLOW  LARGE  STRETCH  ADULT        T"
      ]
     },
     "execution_count": 1,
     "metadata": {},
     "output_type": "execute_result"
    }
   ],
   "source": [
    "import pandas as pd\n",
    "\n",
    "dataset = pd.read_csv('https://archive.ics.uci.edu/ml/machine-learning-databases/balloons/adult+stretch.data')\n",
    "dataset.columns = ['Color', 'Size', 'Action', 'Age', 'Inflated']\n",
    "dataset.head()"
   ]
  },
  {
   "attachments": {},
   "cell_type": "markdown",
   "metadata": {},
   "source": [
    "## Fitting"
   ]
  },
  {
   "cell_type": "code",
   "execution_count": 2,
   "metadata": {
    "execution": {
     "iopub.execute_input": "2025-08-04T17:34:43.686050Z",
     "iopub.status.busy": "2025-08-04T17:34:43.685773Z",
     "iopub.status.idle": "2025-08-04T17:34:44.147347Z",
     "shell.execute_reply": "2025-08-04T17:34:44.146948Z"
    }
   },
   "outputs": [],
   "source": [
    "import prince\n",
    "\n",
    "mca = prince.MCA(\n",
    "    n_components=3,\n",
    "    n_iter=3,\n",
    "    copy=True,\n",
    "    check_input=True,\n",
    "    engine='sklearn',\n",
    "    random_state=42\n",
    ")\n",
    "mca = mca.fit(dataset)"
   ]
  },
  {
   "cell_type": "markdown",
   "metadata": {},
   "source": [
    "The way MCA works is that it one-hot encodes the dataset, and then fits a correspondence analysis. In case your dataset is already one-hot encoded, you can specify `one_hot=False` to skip this step."
   ]
  },
  {
   "cell_type": "code",
   "execution_count": 3,
   "metadata": {
    "execution": {
     "iopub.execute_input": "2025-08-04T17:34:44.148966Z",
     "iopub.status.busy": "2025-08-04T17:34:44.148842Z",
     "iopub.status.idle": "2025-08-04T17:34:44.165176Z",
     "shell.execute_reply": "2025-08-04T17:34:44.164911Z"
    }
   },
   "outputs": [],
   "source": [
    "one_hot = pd.get_dummies(dataset)\n",
    "\n",
    "mca_no_one_hot = prince.MCA(one_hot=False)\n",
    "mca_no_one_hot = mca_no_one_hot.fit(one_hot)"
   ]
  },
  {
   "cell_type": "markdown",
   "metadata": {},
   "source": [
    "Both Benzécri and Greenacre corrections are available. No correction is applied by default."
   ]
  },
  {
   "cell_type": "code",
   "execution_count": 4,
   "metadata": {
    "execution": {
     "iopub.execute_input": "2025-08-04T17:34:44.166646Z",
     "iopub.status.busy": "2025-08-04T17:34:44.166561Z",
     "iopub.status.idle": "2025-08-04T17:34:44.178927Z",
     "shell.execute_reply": "2025-08-04T17:34:44.178630Z"
    }
   },
   "outputs": [],
   "source": [
    "mca_without_correction = prince.MCA(correction=None)\n",
    "mca_with_benzecri_correction = prince.MCA(correction='benzecri')\n",
    "mca_with_greenacre_correction = prince.MCA(correction='greenacre')"
   ]
  },
  {
   "attachments": {},
   "cell_type": "markdown",
   "metadata": {},
   "source": [
    "## Eigenvalues"
   ]
  },
  {
   "cell_type": "code",
   "execution_count": 5,
   "metadata": {
    "execution": {
     "iopub.execute_input": "2025-08-04T17:34:44.180296Z",
     "iopub.status.busy": "2025-08-04T17:34:44.180217Z",
     "iopub.status.idle": "2025-08-04T17:34:44.194184Z",
     "shell.execute_reply": "2025-08-04T17:34:44.193901Z"
    }
   },
   "outputs": [
    {
     "data": {
      "text/html": [
       "<div>\n",
       "<style scoped>\n",
       "    .dataframe tbody tr th:only-of-type {\n",
       "        vertical-align: middle;\n",
       "    }\n",
       "\n",
       "    .dataframe tbody tr th {\n",
       "        vertical-align: top;\n",
       "    }\n",
       "\n",
       "    .dataframe thead th {\n",
       "        text-align: right;\n",
       "    }\n",
       "</style>\n",
       "<table border=\"1\" class=\"dataframe\">\n",
       "  <thead>\n",
       "    <tr style=\"text-align: right;\">\n",
       "      <th></th>\n",
       "      <th>eigenvalue</th>\n",
       "      <th>% of variance</th>\n",
       "      <th>% of variance (cumulative)</th>\n",
       "    </tr>\n",
       "    <tr>\n",
       "      <th>component</th>\n",
       "      <th></th>\n",
       "      <th></th>\n",
       "      <th></th>\n",
       "    </tr>\n",
       "  </thead>\n",
       "  <tbody>\n",
       "    <tr>\n",
       "      <th>0</th>\n",
       "      <td>0.402</td>\n",
       "      <td>40.17%</td>\n",
       "      <td>40.17%</td>\n",
       "    </tr>\n",
       "    <tr>\n",
       "      <th>1</th>\n",
       "      <td>0.211</td>\n",
       "      <td>21.11%</td>\n",
       "      <td>61.28%</td>\n",
       "    </tr>\n",
       "    <tr>\n",
       "      <th>2</th>\n",
       "      <td>0.186</td>\n",
       "      <td>18.56%</td>\n",
       "      <td>79.84%</td>\n",
       "    </tr>\n",
       "  </tbody>\n",
       "</table>\n",
       "</div>"
      ],
      "text/plain": [
       "          eigenvalue % of variance % of variance (cumulative)\n",
       "component                                                    \n",
       "0              0.402        40.17%                     40.17%\n",
       "1              0.211        21.11%                     61.28%\n",
       "2              0.186        18.56%                     79.84%"
      ]
     },
     "execution_count": 5,
     "metadata": {},
     "output_type": "execute_result"
    }
   ],
   "source": [
    "mca.eigenvalues_summary"
   ]
  },
  {
   "attachments": {},
   "cell_type": "markdown",
   "metadata": {},
   "source": [
    "## Coordinates"
   ]
  },
  {
   "cell_type": "code",
   "execution_count": 6,
   "metadata": {
    "execution": {
     "iopub.execute_input": "2025-08-04T17:34:44.195428Z",
     "iopub.status.busy": "2025-08-04T17:34:44.195348Z",
     "iopub.status.idle": "2025-08-04T17:34:44.210337Z",
     "shell.execute_reply": "2025-08-04T17:34:44.210002Z"
    }
   },
   "outputs": [
    {
     "data": {
      "text/html": [
       "<div>\n",
       "<style scoped>\n",
       "    .dataframe tbody tr th:only-of-type {\n",
       "        vertical-align: middle;\n",
       "    }\n",
       "\n",
       "    .dataframe tbody tr th {\n",
       "        vertical-align: top;\n",
       "    }\n",
       "\n",
       "    .dataframe thead th {\n",
       "        text-align: right;\n",
       "    }\n",
       "</style>\n",
       "<table border=\"1\" class=\"dataframe\">\n",
       "  <thead>\n",
       "    <tr style=\"text-align: right;\">\n",
       "      <th></th>\n",
       "      <th>0</th>\n",
       "      <th>1</th>\n",
       "      <th>2</th>\n",
       "    </tr>\n",
       "  </thead>\n",
       "  <tbody>\n",
       "    <tr>\n",
       "      <th>0</th>\n",
       "      <td>0.705387</td>\n",
       "      <td>9.121515e-15</td>\n",
       "      <td>0.758639</td>\n",
       "    </tr>\n",
       "    <tr>\n",
       "      <th>1</th>\n",
       "      <td>-0.386586</td>\n",
       "      <td>8.486117e-15</td>\n",
       "      <td>0.626063</td>\n",
       "    </tr>\n",
       "    <tr>\n",
       "      <th>2</th>\n",
       "      <td>-0.386586</td>\n",
       "      <td>7.146878e-15</td>\n",
       "      <td>0.626063</td>\n",
       "    </tr>\n",
       "    <tr>\n",
       "      <th>3</th>\n",
       "      <td>-0.852014</td>\n",
       "      <td>7.239295e-15</td>\n",
       "      <td>0.562447</td>\n",
       "    </tr>\n",
       "    <tr>\n",
       "      <th>4</th>\n",
       "      <td>0.783539</td>\n",
       "      <td>-6.333333e-01</td>\n",
       "      <td>0.130201</td>\n",
       "    </tr>\n",
       "  </tbody>\n",
       "</table>\n",
       "</div>"
      ],
      "text/plain": [
       "          0             1         2\n",
       "0  0.705387  9.121515e-15  0.758639\n",
       "1 -0.386586  8.486117e-15  0.626063\n",
       "2 -0.386586  7.146878e-15  0.626063\n",
       "3 -0.852014  7.239295e-15  0.562447\n",
       "4  0.783539 -6.333333e-01  0.130201"
      ]
     },
     "execution_count": 6,
     "metadata": {},
     "output_type": "execute_result"
    }
   ],
   "source": [
    "mca.row_coordinates(dataset).head()"
   ]
  },
  {
   "cell_type": "code",
   "execution_count": 7,
   "metadata": {
    "execution": {
     "iopub.execute_input": "2025-08-04T17:34:44.211615Z",
     "iopub.status.busy": "2025-08-04T17:34:44.211531Z",
     "iopub.status.idle": "2025-08-04T17:34:44.225691Z",
     "shell.execute_reply": "2025-08-04T17:34:44.225429Z"
    }
   },
   "outputs": [
    {
     "data": {
      "text/html": [
       "<div>\n",
       "<style scoped>\n",
       "    .dataframe tbody tr th:only-of-type {\n",
       "        vertical-align: middle;\n",
       "    }\n",
       "\n",
       "    .dataframe tbody tr th {\n",
       "        vertical-align: top;\n",
       "    }\n",
       "\n",
       "    .dataframe thead th {\n",
       "        text-align: right;\n",
       "    }\n",
       "</style>\n",
       "<table border=\"1\" class=\"dataframe\">\n",
       "  <thead>\n",
       "    <tr style=\"text-align: right;\">\n",
       "      <th></th>\n",
       "      <th>0</th>\n",
       "      <th>1</th>\n",
       "      <th>2</th>\n",
       "    </tr>\n",
       "  </thead>\n",
       "  <tbody>\n",
       "    <tr>\n",
       "      <th>Color__PURPLE</th>\n",
       "      <td>0.117308</td>\n",
       "      <td>6.892024e-01</td>\n",
       "      <td>-0.641270</td>\n",
       "    </tr>\n",
       "    <tr>\n",
       "      <th>Color__YELLOW</th>\n",
       "      <td>-0.130342</td>\n",
       "      <td>-7.657805e-01</td>\n",
       "      <td>0.712523</td>\n",
       "    </tr>\n",
       "    <tr>\n",
       "      <th>Size__LARGE</th>\n",
       "      <td>0.117308</td>\n",
       "      <td>-6.892024e-01</td>\n",
       "      <td>-0.641270</td>\n",
       "    </tr>\n",
       "    <tr>\n",
       "      <th>Size__SMALL</th>\n",
       "      <td>-0.130342</td>\n",
       "      <td>7.657805e-01</td>\n",
       "      <td>0.712523</td>\n",
       "    </tr>\n",
       "    <tr>\n",
       "      <th>Action__DIP</th>\n",
       "      <td>-0.853864</td>\n",
       "      <td>-1.320666e-15</td>\n",
       "      <td>-0.079340</td>\n",
       "    </tr>\n",
       "  </tbody>\n",
       "</table>\n",
       "</div>"
      ],
      "text/plain": [
       "                      0             1         2\n",
       "Color__PURPLE  0.117308  6.892024e-01 -0.641270\n",
       "Color__YELLOW -0.130342 -7.657805e-01  0.712523\n",
       "Size__LARGE    0.117308 -6.892024e-01 -0.641270\n",
       "Size__SMALL   -0.130342  7.657805e-01  0.712523\n",
       "Action__DIP   -0.853864 -1.320666e-15 -0.079340"
      ]
     },
     "execution_count": 7,
     "metadata": {},
     "output_type": "execute_result"
    }
   ],
   "source": [
    "mca.column_coordinates(dataset).head()"
   ]
  },
  {
   "attachments": {},
   "cell_type": "markdown",
   "metadata": {},
   "source": [
    "## Visualization"
   ]
  },
  {
   "cell_type": "code",
   "execution_count": 8,
   "metadata": {
    "execution": {
     "iopub.execute_input": "2025-08-04T17:34:44.227178Z",
     "iopub.status.busy": "2025-08-04T17:34:44.227061Z",
     "iopub.status.idle": "2025-08-04T17:34:44.278053Z",
     "shell.execute_reply": "2025-08-04T17:34:44.277811Z"
    }
   },
   "outputs": [
    {
     "data": {
      "text/html": [
       "\n",
       "<style>\n",
       "  #altair-viz-b1e879591ce244c19d2c4310616313ce.vega-embed {\n",
       "    width: 100%;\n",
       "    display: flex;\n",
       "  }\n",
       "\n",
       "  #altair-viz-b1e879591ce244c19d2c4310616313ce.vega-embed details,\n",
       "  #altair-viz-b1e879591ce244c19d2c4310616313ce.vega-embed details summary {\n",
       "    position: relative;\n",
       "  }\n",
       "</style>\n",
       "<div id=\"altair-viz-b1e879591ce244c19d2c4310616313ce\"></div>\n",
       "<script type=\"text/javascript\">\n",
       "  var VEGA_DEBUG = (typeof VEGA_DEBUG == \"undefined\") ? {} : VEGA_DEBUG;\n",
       "  (function(spec, embedOpt){\n",
       "    let outputDiv = document.currentScript.previousElementSibling;\n",
       "    if (outputDiv.id !== \"altair-viz-b1e879591ce244c19d2c4310616313ce\") {\n",
       "      outputDiv = document.getElementById(\"altair-viz-b1e879591ce244c19d2c4310616313ce\");\n",
       "    }\n",
       "\n",
       "    const paths = {\n",
       "      \"vega\": \"https://cdn.jsdelivr.net/npm/vega@5?noext\",\n",
       "      \"vega-lib\": \"https://cdn.jsdelivr.net/npm/vega-lib?noext\",\n",
       "      \"vega-lite\": \"https://cdn.jsdelivr.net/npm/vega-lite@5.20.1?noext\",\n",
       "      \"vega-embed\": \"https://cdn.jsdelivr.net/npm/vega-embed@6?noext\",\n",
       "    };\n",
       "\n",
       "    function maybeLoadScript(lib, version) {\n",
       "      var key = `${lib.replace(\"-\", \"\")}_version`;\n",
       "      return (VEGA_DEBUG[key] == version) ?\n",
       "        Promise.resolve(paths[lib]) :\n",
       "        new Promise(function(resolve, reject) {\n",
       "          var s = document.createElement('script');\n",
       "          document.getElementsByTagName(\"head\")[0].appendChild(s);\n",
       "          s.async = true;\n",
       "          s.onload = () => {\n",
       "            VEGA_DEBUG[key] = version;\n",
       "            return resolve(paths[lib]);\n",
       "          };\n",
       "          s.onerror = () => reject(`Error loading script: ${paths[lib]}`);\n",
       "          s.src = paths[lib];\n",
       "        });\n",
       "    }\n",
       "\n",
       "    function showError(err) {\n",
       "      outputDiv.innerHTML = `<div class=\"error\" style=\"color:red;\">${err}</div>`;\n",
       "      throw err;\n",
       "    }\n",
       "\n",
       "    function displayChart(vegaEmbed) {\n",
       "      vegaEmbed(outputDiv, spec, embedOpt)\n",
       "        .catch(err => showError(`Javascript Error: ${err.message}<br>This usually means there's a typo in your chart specification. See the javascript console for the full traceback.`));\n",
       "    }\n",
       "\n",
       "    if(typeof define === \"function\" && define.amd) {\n",
       "      requirejs.config({paths});\n",
       "      let deps = [\"vega-embed\"];\n",
       "      require(deps, displayChart, err => showError(`Error loading script: ${err.message}`));\n",
       "    } else {\n",
       "      maybeLoadScript(\"vega\", \"5\")\n",
       "        .then(() => maybeLoadScript(\"vega-lite\", \"5.20.1\"))\n",
       "        .then(() => maybeLoadScript(\"vega-embed\", \"6\"))\n",
       "        .catch(showError)\n",
       "        .then(() => displayChart(vegaEmbed));\n",
       "    }\n",
       "  })({\"config\": {\"view\": {\"continuousWidth\": 300, \"continuousHeight\": 300}}, \"layer\": [{\"data\": {\"name\": \"data-6ecae42de39a046c9982c17c769f2ce6\"}, \"mark\": {\"type\": \"circle\", \"size\": 50}, \"encoding\": {\"color\": {\"field\": \"variable\", \"type\": \"nominal\"}, \"tooltip\": [{\"field\": \"variable\", \"type\": \"nominal\"}, {\"field\": \"value\", \"type\": \"nominal\"}, {\"field\": \"component 0\", \"type\": \"quantitative\"}, {\"field\": \"component 1\", \"type\": \"quantitative\"}], \"x\": {\"axis\": {\"title\": \"component 0 \\u2014 40.17%\"}, \"field\": \"component 0\", \"scale\": {\"zero\": false}, \"type\": \"quantitative\"}, \"y\": {\"axis\": {\"title\": \"component 1 \\u2014 21.11%\"}, \"field\": \"component 1\", \"scale\": {\"zero\": false}, \"type\": \"quantitative\"}}, \"name\": \"view_1\"}, {\"data\": {\"name\": \"data-f257c213066ce64daabb451b235c76a9\"}, \"mark\": {\"type\": \"circle\", \"size\": 50}, \"encoding\": {\"color\": {\"field\": \"variable\", \"type\": \"nominal\"}, \"tooltip\": [{\"field\": \"variable\", \"type\": \"nominal\"}, {\"field\": \"value\", \"type\": \"nominal\"}, {\"field\": \"component 0\", \"type\": \"quantitative\"}, {\"field\": \"component 1\", \"type\": \"quantitative\"}], \"x\": {\"axis\": {\"title\": \"component 0 \\u2014 40.17%\"}, \"field\": \"component 0\", \"scale\": {\"zero\": false}, \"type\": \"quantitative\"}, \"y\": {\"axis\": {\"title\": \"component 1 \\u2014 21.11%\"}, \"field\": \"component 1\", \"scale\": {\"zero\": false}, \"type\": \"quantitative\"}}}], \"params\": [{\"name\": \"param_1\", \"select\": {\"type\": \"interval\", \"encodings\": [\"x\", \"y\"]}, \"bind\": \"scales\", \"views\": [\"view_1\"]}], \"$schema\": \"https://vega.github.io/schema/vega-lite/v5.20.1.json\", \"datasets\": {\"data-6ecae42de39a046c9982c17c769f2ce6\": [{\"component 0\": 0.7053867996248331, \"component 1\": 9.121514620687928e-15, \"component 2\": 0.7586391105690955, \"variable\": \"row\", \"value\": \"0\", \"label\": 0}, {\"component 0\": -0.38658629949599016, \"component 1\": 8.486117297310483e-15, \"component 2\": 0.6260630816840027, \"variable\": \"row\", \"value\": \"1\", \"label\": 1}, {\"component 0\": -0.38658629949599, \"component 1\": 7.146877644652262e-15, \"component 2\": 0.6260630816840017, \"variable\": \"row\", \"value\": \"2\", \"label\": 2}, {\"component 0\": -0.852014057466405, \"component 1\": 7.239295113429679e-15, \"component 2\": 0.5624474892356499, \"variable\": \"row\", \"value\": \"3\", \"label\": 3}, {\"component 0\": 0.7835387510478182, \"component 1\": -0.6333333333333316, \"component 2\": 0.13020069134918888, \"variable\": \"row\", \"value\": \"4\", \"label\": 4}, {\"component 0\": 0.7835387510478182, \"component 1\": -0.6333333333333316, \"component 2\": 0.13020069134918888, \"variable\": \"row\", \"value\": \"5\", \"label\": 5}, {\"component 0\": -0.308434348073005, \"component 1\": -0.6333333333333322, \"component 2\": -0.0023753375359039184, \"variable\": \"row\", \"value\": \"6\", \"label\": 6}, {\"component 0\": -0.3084343480730048, \"component 1\": -0.6333333333333336, \"component 2\": -0.00237533753590489, \"variable\": \"row\", \"value\": \"7\", \"label\": 7}, {\"component 0\": -0.7738621060434199, \"component 1\": -0.6333333333333335, \"component 2\": -0.06599092998425672, \"variable\": \"row\", \"value\": \"8\", \"label\": 8}, {\"component 0\": 0.7835387510478184, \"component 1\": 0.6333333333333346, \"component 2\": 0.13020069134917328, \"variable\": \"row\", \"value\": \"9\", \"label\": 9}, {\"component 0\": 0.7835387510478184, \"component 1\": 0.6333333333333346, \"component 2\": 0.13020069134917328, \"variable\": \"row\", \"value\": \"10\", \"label\": 10}, {\"component 0\": -0.3084343480730048, \"component 1\": 0.6333333333333341, \"component 2\": -0.002375337535919524, \"variable\": \"row\", \"value\": \"11\", \"label\": 11}, {\"component 0\": -0.3084343480730046, \"component 1\": 0.6333333333333326, \"component 2\": -0.0023753375359204954, \"variable\": \"row\", \"value\": \"12\", \"label\": 12}, {\"component 0\": -0.7738621060434197, \"component 1\": 0.6333333333333327, \"component 2\": -0.06599092998427232, \"variable\": \"row\", \"value\": \"13\", \"label\": 13}, {\"component 0\": 0.8616907024708036, \"component 1\": -6.200278514524717e-15, \"component 2\": -0.4982377278707332, \"variable\": \"row\", \"value\": \"14\", \"label\": 14}, {\"component 0\": 0.8616907024708036, \"component 1\": -6.200278514524717e-15, \"component 2\": -0.4982377278707332, \"variable\": \"row\", \"value\": \"15\", \"label\": 15}, {\"component 0\": -0.2302823966500196, \"component 1\": -6.835675837902161e-15, \"component 2\": -0.630813756755826, \"variable\": \"row\", \"value\": \"16\", \"label\": 16}, {\"component 0\": -0.23028239665001943, \"component 1\": -8.174915490560383e-15, \"component 2\": -0.630813756755827, \"variable\": \"row\", \"value\": \"17\", \"label\": 17}, {\"component 0\": -0.6957101546204345, \"component 1\": -8.082498021782966e-15, \"component 2\": -0.6944293492041788, \"variable\": \"row\", \"value\": \"18\", \"label\": 18}], \"data-f257c213066ce64daabb451b235c76a9\": [{\"component 0\": 0.11730760677191521, \"component 1\": 0.6892024376045041, \"component 2\": -0.6412704755837081, \"variable\": \"column\", \"value\": \"Color__PURPLE\", \"label\": \"Color__PURPLE\"}, {\"component 0\": -0.13034178530212756, \"component 1\": -0.7657804862272263, \"component 2\": 0.712522750648565, \"variable\": \"column\", \"value\": \"Color__YELLOW\", \"label\": \"Color__YELLOW\"}, {\"component 0\": 0.11730760677191443, \"component 1\": -0.6892024376045185, \"component 2\": -0.6412704755836924, \"variable\": \"column\", \"value\": \"Size__LARGE\", \"label\": \"Size__LARGE\"}, {\"component 0\": -0.1303417853021267, \"component 1\": 0.765780486227243, \"component 2\": 0.7125227506485476, \"variable\": \"column\", \"value\": \"Size__SMALL\", \"label\": \"Size__SMALL\"}, {\"component 0\": -0.8538641988881541, \"component 1\": -1.3206657460980845e-15, \"component 2\": -0.07934001340795385, \"variable\": \"column\", \"value\": \"Action__DIP\", \"label\": \"Action__DIP\"}, {\"component 0\": 0.6209921446459304, \"component 1\": 1.2067824089137313e-15, \"component 2\": 0.05770182793305767, \"variable\": \"column\", \"value\": \"Action__STRETCH\", \"label\": \"Action__STRETCH\"}, {\"component 0\": 0.6209921446459306, \"component 1\": 1.4700013020450349e-16, \"component 2\": 0.05770182793305701, \"variable\": \"column\", \"value\": \"Age__ADULT\", \"label\": \"Age__ADULT\"}, {\"component 0\": -0.8538641988881542, \"component 1\": 1.0860871735066675e-16, \"component 2\": -0.07934001340795291, \"variable\": \"column\", \"value\": \"Age__CHILD\", \"label\": \"Age__CHILD\"}, {\"component 0\": -0.7314664035372918, \"component 1\": -4.2602917934610816e-16, \"component 2\": -0.054731083980792926, \"variable\": \"column\", \"value\": \"Inflated__F\", \"label\": \"Inflated__F\"}, {\"component 0\": 1.2539424060639295, \"component 1\": 1.050305912021252e-15, \"component 2\": 0.09382471539564557, \"variable\": \"column\", \"value\": \"Inflated__T\", \"label\": \"Inflated__T\"}]}}, {\"mode\": \"vega-lite\"});\n",
       "</script>"
      ],
      "text/plain": [
       "alt.LayerChart(...)"
      ]
     },
     "execution_count": 8,
     "metadata": {},
     "output_type": "execute_result"
    }
   ],
   "source": [
    "mca.plot(\n",
    "    dataset,\n",
    "    x_component=0,\n",
    "    y_component=1,\n",
    "    show_column_markers=True,\n",
    "    show_row_markers=True,\n",
    "    show_column_labels=False,\n",
    "    show_row_labels=False\n",
    ")"
   ]
  },
  {
   "attachments": {},
   "cell_type": "markdown",
   "metadata": {},
   "source": [
    "## Contributions"
   ]
  },
  {
   "cell_type": "code",
   "execution_count": 9,
   "metadata": {
    "execution": {
     "iopub.execute_input": "2025-08-04T17:34:44.279448Z",
     "iopub.status.busy": "2025-08-04T17:34:44.279336Z",
     "iopub.status.idle": "2025-08-04T17:34:44.304069Z",
     "shell.execute_reply": "2025-08-04T17:34:44.303830Z"
    }
   },
   "outputs": [
    {
     "data": {
      "text/html": [
       "<style type=\"text/css\">\n",
       "</style>\n",
       "<table id=\"T_e90a7\">\n",
       "  <thead>\n",
       "    <tr>\n",
       "      <th class=\"blank level0\" >&nbsp;</th>\n",
       "      <th id=\"T_e90a7_level0_col0\" class=\"col_heading level0 col0\" >0</th>\n",
       "      <th id=\"T_e90a7_level0_col1\" class=\"col_heading level0 col1\" >1</th>\n",
       "      <th id=\"T_e90a7_level0_col2\" class=\"col_heading level0 col2\" >2</th>\n",
       "    </tr>\n",
       "  </thead>\n",
       "  <tbody>\n",
       "    <tr>\n",
       "      <th id=\"T_e90a7_level0_row0\" class=\"row_heading level0 row0\" >0</th>\n",
       "      <td id=\"T_e90a7_row0_col0\" class=\"data row0 col0\" >7%</td>\n",
       "      <td id=\"T_e90a7_row0_col1\" class=\"data row0 col1\" >0%</td>\n",
       "      <td id=\"T_e90a7_row0_col2\" class=\"data row0 col2\" >16%</td>\n",
       "    </tr>\n",
       "    <tr>\n",
       "      <th id=\"T_e90a7_level0_row1\" class=\"row_heading level0 row1\" >1</th>\n",
       "      <td id=\"T_e90a7_row1_col0\" class=\"data row1 col0\" >2%</td>\n",
       "      <td id=\"T_e90a7_row1_col1\" class=\"data row1 col1\" >0%</td>\n",
       "      <td id=\"T_e90a7_row1_col2\" class=\"data row1 col2\" >11%</td>\n",
       "    </tr>\n",
       "    <tr>\n",
       "      <th id=\"T_e90a7_level0_row2\" class=\"row_heading level0 row2\" >2</th>\n",
       "      <td id=\"T_e90a7_row2_col0\" class=\"data row2 col0\" >2%</td>\n",
       "      <td id=\"T_e90a7_row2_col1\" class=\"data row2 col1\" >0%</td>\n",
       "      <td id=\"T_e90a7_row2_col2\" class=\"data row2 col2\" >11%</td>\n",
       "    </tr>\n",
       "    <tr>\n",
       "      <th id=\"T_e90a7_level0_row3\" class=\"row_heading level0 row3\" >3</th>\n",
       "      <td id=\"T_e90a7_row3_col0\" class=\"data row3 col0\" >10%</td>\n",
       "      <td id=\"T_e90a7_row3_col1\" class=\"data row3 col1\" >0%</td>\n",
       "      <td id=\"T_e90a7_row3_col2\" class=\"data row3 col2\" >9%</td>\n",
       "    </tr>\n",
       "    <tr>\n",
       "      <th id=\"T_e90a7_level0_row4\" class=\"row_heading level0 row4\" >4</th>\n",
       "      <td id=\"T_e90a7_row4_col0\" class=\"data row4 col0\" >8%</td>\n",
       "      <td id=\"T_e90a7_row4_col1\" class=\"data row4 col1\" >10%</td>\n",
       "      <td id=\"T_e90a7_row4_col2\" class=\"data row4 col2\" >0%</td>\n",
       "    </tr>\n",
       "  </tbody>\n",
       "</table>\n"
      ],
      "text/plain": [
       "<pandas.io.formats.style.Styler at 0x10f902270>"
      ]
     },
     "execution_count": 9,
     "metadata": {},
     "output_type": "execute_result"
    }
   ],
   "source": [
    "mca.row_contributions_.head().style.format('{:.0%}')"
   ]
  },
  {
   "cell_type": "code",
   "execution_count": 10,
   "metadata": {
    "execution": {
     "iopub.execute_input": "2025-08-04T17:34:44.305517Z",
     "iopub.status.busy": "2025-08-04T17:34:44.305397Z",
     "iopub.status.idle": "2025-08-04T17:34:44.318518Z",
     "shell.execute_reply": "2025-08-04T17:34:44.318293Z"
    }
   },
   "outputs": [
    {
     "data": {
      "text/html": [
       "<style type=\"text/css\">\n",
       "</style>\n",
       "<table id=\"T_d2a50\">\n",
       "  <thead>\n",
       "    <tr>\n",
       "      <th class=\"blank level0\" >&nbsp;</th>\n",
       "      <th id=\"T_d2a50_level0_col0\" class=\"col_heading level0 col0\" >0</th>\n",
       "      <th id=\"T_d2a50_level0_col1\" class=\"col_heading level0 col1\" >1</th>\n",
       "      <th id=\"T_d2a50_level0_col2\" class=\"col_heading level0 col2\" >2</th>\n",
       "    </tr>\n",
       "  </thead>\n",
       "  <tbody>\n",
       "    <tr>\n",
       "      <th id=\"T_d2a50_level0_row0\" class=\"row_heading level0 row0\" >Color__PURPLE</th>\n",
       "      <td id=\"T_d2a50_row0_col0\" class=\"data row0 col0\" >0%</td>\n",
       "      <td id=\"T_d2a50_row0_col1\" class=\"data row0 col1\" >24%</td>\n",
       "      <td id=\"T_d2a50_row0_col2\" class=\"data row0 col2\" >23%</td>\n",
       "    </tr>\n",
       "    <tr>\n",
       "      <th id=\"T_d2a50_level0_row1\" class=\"row_heading level0 row1\" >Color__YELLOW</th>\n",
       "      <td id=\"T_d2a50_row1_col0\" class=\"data row1 col0\" >0%</td>\n",
       "      <td id=\"T_d2a50_row1_col1\" class=\"data row1 col1\" >26%</td>\n",
       "      <td id=\"T_d2a50_row1_col2\" class=\"data row1 col2\" >26%</td>\n",
       "    </tr>\n",
       "    <tr>\n",
       "      <th id=\"T_d2a50_level0_row2\" class=\"row_heading level0 row2\" >Size__LARGE</th>\n",
       "      <td id=\"T_d2a50_row2_col0\" class=\"data row2 col0\" >0%</td>\n",
       "      <td id=\"T_d2a50_row2_col1\" class=\"data row2 col1\" >24%</td>\n",
       "      <td id=\"T_d2a50_row2_col2\" class=\"data row2 col2\" >23%</td>\n",
       "    </tr>\n",
       "    <tr>\n",
       "      <th id=\"T_d2a50_level0_row3\" class=\"row_heading level0 row3\" >Size__SMALL</th>\n",
       "      <td id=\"T_d2a50_row3_col0\" class=\"data row3 col0\" >0%</td>\n",
       "      <td id=\"T_d2a50_row3_col1\" class=\"data row3 col1\" >26%</td>\n",
       "      <td id=\"T_d2a50_row3_col2\" class=\"data row3 col2\" >26%</td>\n",
       "    </tr>\n",
       "    <tr>\n",
       "      <th id=\"T_d2a50_level0_row4\" class=\"row_heading level0 row4\" >Action__DIP</th>\n",
       "      <td id=\"T_d2a50_row4_col0\" class=\"data row4 col0\" >15%</td>\n",
       "      <td id=\"T_d2a50_row4_col1\" class=\"data row4 col1\" >0%</td>\n",
       "      <td id=\"T_d2a50_row4_col2\" class=\"data row4 col2\" >0%</td>\n",
       "    </tr>\n",
       "  </tbody>\n",
       "</table>\n"
      ],
      "text/plain": [
       "<pandas.io.formats.style.Styler at 0x10f94dd10>"
      ]
     },
     "execution_count": 10,
     "metadata": {},
     "output_type": "execute_result"
    }
   ],
   "source": [
    "mca.column_contributions_.head().style.format('{:.0%}')"
   ]
  },
  {
   "attachments": {},
   "cell_type": "markdown",
   "metadata": {},
   "source": [
    "## Cosine similarities"
   ]
  },
  {
   "cell_type": "code",
   "execution_count": 11,
   "metadata": {
    "execution": {
     "iopub.execute_input": "2025-08-04T17:34:44.319751Z",
     "iopub.status.busy": "2025-08-04T17:34:44.319668Z",
     "iopub.status.idle": "2025-08-04T17:34:44.335398Z",
     "shell.execute_reply": "2025-08-04T17:34:44.335106Z"
    }
   },
   "outputs": [
    {
     "data": {
      "text/html": [
       "<div>\n",
       "<style scoped>\n",
       "    .dataframe tbody tr th:only-of-type {\n",
       "        vertical-align: middle;\n",
       "    }\n",
       "\n",
       "    .dataframe tbody tr th {\n",
       "        vertical-align: top;\n",
       "    }\n",
       "\n",
       "    .dataframe thead th {\n",
       "        text-align: right;\n",
       "    }\n",
       "</style>\n",
       "<table border=\"1\" class=\"dataframe\">\n",
       "  <thead>\n",
       "    <tr style=\"text-align: right;\">\n",
       "      <th></th>\n",
       "      <th>0</th>\n",
       "      <th>1</th>\n",
       "      <th>2</th>\n",
       "    </tr>\n",
       "  </thead>\n",
       "  <tbody>\n",
       "    <tr>\n",
       "      <th>0</th>\n",
       "      <td>0.461478</td>\n",
       "      <td>7.716676e-29</td>\n",
       "      <td>0.533786</td>\n",
       "    </tr>\n",
       "    <tr>\n",
       "      <th>1</th>\n",
       "      <td>0.152256</td>\n",
       "      <td>7.336665e-29</td>\n",
       "      <td>0.399316</td>\n",
       "    </tr>\n",
       "    <tr>\n",
       "      <th>2</th>\n",
       "      <td>0.152256</td>\n",
       "      <td>5.203713e-29</td>\n",
       "      <td>0.399316</td>\n",
       "    </tr>\n",
       "    <tr>\n",
       "      <th>3</th>\n",
       "      <td>0.653335</td>\n",
       "      <td>4.716665e-29</td>\n",
       "      <td>0.284712</td>\n",
       "    </tr>\n",
       "    <tr>\n",
       "      <th>4</th>\n",
       "      <td>0.592606</td>\n",
       "      <td>3.871772e-01</td>\n",
       "      <td>0.016363</td>\n",
       "    </tr>\n",
       "  </tbody>\n",
       "</table>\n",
       "</div>"
      ],
      "text/plain": [
       "          0             1         2\n",
       "0  0.461478  7.716676e-29  0.533786\n",
       "1  0.152256  7.336665e-29  0.399316\n",
       "2  0.152256  5.203713e-29  0.399316\n",
       "3  0.653335  4.716665e-29  0.284712\n",
       "4  0.592606  3.871772e-01  0.016363"
      ]
     },
     "execution_count": 11,
     "metadata": {},
     "output_type": "execute_result"
    }
   ],
   "source": [
    "mca.row_cosine_similarities(dataset).head()"
   ]
  },
  {
   "cell_type": "code",
   "execution_count": 12,
   "metadata": {
    "execution": {
     "iopub.execute_input": "2025-08-04T17:34:44.336905Z",
     "iopub.status.busy": "2025-08-04T17:34:44.336786Z",
     "iopub.status.idle": "2025-08-04T17:34:44.352502Z",
     "shell.execute_reply": "2025-08-04T17:34:44.352231Z"
    }
   },
   "outputs": [
    {
     "data": {
      "text/html": [
       "<div>\n",
       "<style scoped>\n",
       "    .dataframe tbody tr th:only-of-type {\n",
       "        vertical-align: middle;\n",
       "    }\n",
       "\n",
       "    .dataframe tbody tr th {\n",
       "        vertical-align: top;\n",
       "    }\n",
       "\n",
       "    .dataframe thead th {\n",
       "        text-align: right;\n",
       "    }\n",
       "</style>\n",
       "<table border=\"1\" class=\"dataframe\">\n",
       "  <thead>\n",
       "    <tr style=\"text-align: right;\">\n",
       "      <th></th>\n",
       "      <th>0</th>\n",
       "      <th>1</th>\n",
       "      <th>2</th>\n",
       "    </tr>\n",
       "  </thead>\n",
       "  <tbody>\n",
       "    <tr>\n",
       "      <th>Color__PURPLE</th>\n",
       "      <td>0.015290</td>\n",
       "      <td>5.277778e-01</td>\n",
       "      <td>0.456920</td>\n",
       "    </tr>\n",
       "    <tr>\n",
       "      <th>Color__YELLOW</th>\n",
       "      <td>0.015290</td>\n",
       "      <td>5.277778e-01</td>\n",
       "      <td>0.456920</td>\n",
       "    </tr>\n",
       "    <tr>\n",
       "      <th>Size__LARGE</th>\n",
       "      <td>0.015290</td>\n",
       "      <td>5.277778e-01</td>\n",
       "      <td>0.456920</td>\n",
       "    </tr>\n",
       "    <tr>\n",
       "      <th>Size__SMALL</th>\n",
       "      <td>0.015290</td>\n",
       "      <td>5.277778e-01</td>\n",
       "      <td>0.456920</td>\n",
       "    </tr>\n",
       "    <tr>\n",
       "      <th>Action__DIP</th>\n",
       "      <td>0.530243</td>\n",
       "      <td>1.268479e-30</td>\n",
       "      <td>0.004578</td>\n",
       "    </tr>\n",
       "  </tbody>\n",
       "</table>\n",
       "</div>"
      ],
      "text/plain": [
       "                      0             1         2\n",
       "Color__PURPLE  0.015290  5.277778e-01  0.456920\n",
       "Color__YELLOW  0.015290  5.277778e-01  0.456920\n",
       "Size__LARGE    0.015290  5.277778e-01  0.456920\n",
       "Size__SMALL    0.015290  5.277778e-01  0.456920\n",
       "Action__DIP    0.530243  1.268479e-30  0.004578"
      ]
     },
     "execution_count": 12,
     "metadata": {},
     "output_type": "execute_result"
    }
   ],
   "source": [
    "mca.column_cosine_similarities(dataset).head()"
   ]
  },
  {
   "cell_type": "markdown",
   "metadata": {},
   "source": [
    "## Controlling the one-hot encoding\n",
    "\n",
    "- `one_hot_prefix_sep` allows you to specify the separator used to prefix the one-hot encoded columns. By default, it is set to `__`.\n",
    "- `one_hot_columns_to_drop` allows you to specify which one-hot encoded columns should be dropped before fitting the MCA. This is useful if you want to drop some columns that are not relevant for the analysis, or if you want to avoid multicollinearity issues. It leads to so-called \"subset MCA\"."
   ]
  },
  {
   "cell_type": "code",
   "execution_count": 13,
   "metadata": {
    "execution": {
     "iopub.execute_input": "2025-08-04T17:34:44.353985Z",
     "iopub.status.busy": "2025-08-04T17:34:44.353857Z",
     "iopub.status.idle": "2025-08-04T17:34:44.373173Z",
     "shell.execute_reply": "2025-08-04T17:34:44.372786Z"
    }
   },
   "outputs": [
    {
     "data": {
      "text/html": [
       "<div>\n",
       "<style scoped>\n",
       "    .dataframe tbody tr th:only-of-type {\n",
       "        vertical-align: middle;\n",
       "    }\n",
       "\n",
       "    .dataframe tbody tr th {\n",
       "        vertical-align: top;\n",
       "    }\n",
       "\n",
       "    .dataframe thead th {\n",
       "        text-align: right;\n",
       "    }\n",
       "</style>\n",
       "<table border=\"1\" class=\"dataframe\">\n",
       "  <thead>\n",
       "    <tr style=\"text-align: right;\">\n",
       "      <th></th>\n",
       "      <th>0</th>\n",
       "      <th>1</th>\n",
       "    </tr>\n",
       "  </thead>\n",
       "  <tbody>\n",
       "    <tr>\n",
       "      <th>Color@YELLOW</th>\n",
       "      <td>-0.006804</td>\n",
       "      <td>-0.114754</td>\n",
       "    </tr>\n",
       "    <tr>\n",
       "      <th>Size@LARGE</th>\n",
       "      <td>0.196862</td>\n",
       "      <td>-0.938999</td>\n",
       "    </tr>\n",
       "    <tr>\n",
       "      <th>Size@SMALL</th>\n",
       "      <td>-0.049813</td>\n",
       "      <td>1.080353</td>\n",
       "    </tr>\n",
       "    <tr>\n",
       "      <th>Action@DIP</th>\n",
       "      <td>-0.562462</td>\n",
       "      <td>0.004154</td>\n",
       "    </tr>\n",
       "    <tr>\n",
       "      <th>Age@ADULT</th>\n",
       "      <td>0.823161</td>\n",
       "      <td>0.082031</td>\n",
       "    </tr>\n",
       "    <tr>\n",
       "      <th>Age@CHILD</th>\n",
       "      <td>-0.941808</td>\n",
       "      <td>-0.071144</td>\n",
       "    </tr>\n",
       "    <tr>\n",
       "      <th>Inflated@F</th>\n",
       "      <td>-0.681104</td>\n",
       "      <td>-0.024378</td>\n",
       "    </tr>\n",
       "    <tr>\n",
       "      <th>Inflated@T</th>\n",
       "      <td>1.384794</td>\n",
       "      <td>0.089388</td>\n",
       "    </tr>\n",
       "  </tbody>\n",
       "</table>\n",
       "</div>"
      ],
      "text/plain": [
       "                     0         1\n",
       "Color@YELLOW -0.006804 -0.114754\n",
       "Size@LARGE    0.196862 -0.938999\n",
       "Size@SMALL   -0.049813  1.080353\n",
       "Action@DIP   -0.562462  0.004154\n",
       "Age@ADULT     0.823161  0.082031\n",
       "Age@CHILD    -0.941808 -0.071144\n",
       "Inflated@F   -0.681104 -0.024378\n",
       "Inflated@T    1.384794  0.089388"
      ]
     },
     "execution_count": 13,
     "metadata": {},
     "output_type": "execute_result"
    }
   ],
   "source": [
    "mca = prince.MCA(\n",
    "    one_hot_prefix_sep=\"@\",\n",
    "    one_hot_columns_to_drop=['Color@PURPLE', 'Action@STRETCH']\n",
    ")\n",
    "mca = mca.fit(dataset)\n",
    "mca.column_coordinates(dataset)"
   ]
  }
 ],
 "metadata": {
  "kernelspec": {
   "display_name": "prince",
   "language": "python",
   "name": "python3"
  },
  "language_info": {
   "codemirror_mode": {
    "name": "ipython",
    "version": 3
   },
   "file_extension": ".py",
   "mimetype": "text/x-python",
   "name": "python",
   "nbconvert_exporter": "python",
   "pygments_lexer": "ipython3",
   "version": "3.13.3"
  }
 },
 "nbformat": 4,
 "nbformat_minor": 2
}

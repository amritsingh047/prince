{
 "cells": [
  {
   "attachments": {},
   "cell_type": "markdown",
   "metadata": {},
   "source": [
    "+++\n",
    "title = \"Correspondence analysis\"\n",
    "menu = \"main\"\n",
    "weight = 2\n",
    "toc = true\n",
    "aliases = [\"ca\"]\n",
    "+++"
   ]
  },
  {
   "attachments": {},
   "cell_type": "markdown",
   "metadata": {},
   "source": [
    "## Resources\n",
    "\n",
    "- [Theory of Correspondence Analysis](http://statmath.wu.ac.at/courses/CAandRelMeth/caipA.pdf) has all the equations.\n",
    "- [Correspondence analysis](https://cedric.cnam.fr/fichiers/art_3066.pdf) by Hervé Abdi and Michael Béra is great too, although it doesn't only cover CA.\n",
    "- [L’Analyse Factorielle des Correspondences (AFC)](https://marie-chavent.perso.math.cnrs.fr/wp-content/uploads/2013/10/AFC.pdf) by Marie Chavent is short and sweet."
   ]
  },
  {
   "attachments": {},
   "cell_type": "markdown",
   "metadata": {},
   "source": [
    "## Data\n",
    "\n",
    "You can use correspondence analysis when you have a contingency table. In other words, when you want to analyse the dependency between two categorical variables. For instance, here is a dataset which counts the number of voters per region for each candidate in the 2022 French presidential elections."
   ]
  },
  {
   "cell_type": "code",
   "execution_count": 1,
   "metadata": {
    "execution": {
     "iopub.execute_input": "2025-08-04T17:34:35.019833Z",
     "iopub.status.busy": "2025-08-04T17:34:35.019572Z",
     "iopub.status.idle": "2025-08-04T17:34:35.571156Z",
     "shell.execute_reply": "2025-08-04T17:34:35.570904Z"
    }
   },
   "outputs": [
    {
     "data": {
      "text/html": [
       "<div>\n",
       "<style scoped>\n",
       "    .dataframe tbody tr th:only-of-type {\n",
       "        vertical-align: middle;\n",
       "    }\n",
       "\n",
       "    .dataframe tbody tr th {\n",
       "        vertical-align: top;\n",
       "    }\n",
       "\n",
       "    .dataframe thead th {\n",
       "        text-align: right;\n",
       "    }\n",
       "</style>\n",
       "<table border=\"1\" class=\"dataframe\">\n",
       "  <thead>\n",
       "    <tr style=\"text-align: right;\">\n",
       "      <th>candidate</th>\n",
       "      <th>Le Pen</th>\n",
       "      <th>Macron</th>\n",
       "      <th>Mélenchon</th>\n",
       "      <th>Abstention</th>\n",
       "    </tr>\n",
       "    <tr>\n",
       "      <th>region</th>\n",
       "      <th></th>\n",
       "      <th></th>\n",
       "      <th></th>\n",
       "      <th></th>\n",
       "    </tr>\n",
       "  </thead>\n",
       "  <tbody>\n",
       "    <tr>\n",
       "      <th>Auvergne-Rhône-Alpes</th>\n",
       "      <td>943294</td>\n",
       "      <td>1175085</td>\n",
       "      <td>897434</td>\n",
       "      <td>1228490</td>\n",
       "    </tr>\n",
       "    <tr>\n",
       "      <th>Bourgogne-Franche-Comté</th>\n",
       "      <td>409639</td>\n",
       "      <td>394117</td>\n",
       "      <td>277899</td>\n",
       "      <td>456682</td>\n",
       "    </tr>\n",
       "    <tr>\n",
       "      <th>Bretagne</th>\n",
       "      <td>385393</td>\n",
       "      <td>647172</td>\n",
       "      <td>407527</td>\n",
       "      <td>543425</td>\n",
       "    </tr>\n",
       "    <tr>\n",
       "      <th>Centre-Val de Loire</th>\n",
       "      <td>347845</td>\n",
       "      <td>383851</td>\n",
       "      <td>251259</td>\n",
       "      <td>459528</td>\n",
       "    </tr>\n",
       "    <tr>\n",
       "      <th>Corse</th>\n",
       "      <td>42283</td>\n",
       "      <td>26795</td>\n",
       "      <td>19779</td>\n",
       "      <td>90636</td>\n",
       "    </tr>\n",
       "  </tbody>\n",
       "</table>\n",
       "</div>"
      ],
      "text/plain": [
       "candidate                Le Pen   Macron  Mélenchon  Abstention\n",
       "region                                                         \n",
       "Auvergne-Rhône-Alpes     943294  1175085     897434     1228490\n",
       "Bourgogne-Franche-Comté  409639   394117     277899      456682\n",
       "Bretagne                 385393   647172     407527      543425\n",
       "Centre-Val de Loire      347845   383851     251259      459528\n",
       "Corse                     42283    26795      19779       90636"
      ]
     },
     "execution_count": 1,
     "metadata": {},
     "output_type": "execute_result"
    }
   ],
   "source": [
    "import prince\n",
    "\n",
    "dataset = prince.datasets.load_french_elections()\n",
    "dataset[['Le Pen', 'Macron', 'Mélenchon', 'Abstention']].head()"
   ]
  },
  {
   "attachments": {},
   "cell_type": "markdown",
   "metadata": {},
   "source": [
    "☝️ *This dataset is already available as a contingency matrix. It's more common to have at one's disposal a flat dataset. If this is the case, a contigency matrix can be obtained using the `pivot_table` function in `pandas`.*"
   ]
  },
  {
   "attachments": {},
   "cell_type": "markdown",
   "metadata": {},
   "source": [
    "## Fitting"
   ]
  },
  {
   "cell_type": "code",
   "execution_count": 2,
   "metadata": {
    "execution": {
     "iopub.execute_input": "2025-08-04T17:34:35.583739Z",
     "iopub.status.busy": "2025-08-04T17:34:35.583606Z",
     "iopub.status.idle": "2025-08-04T17:34:35.605600Z",
     "shell.execute_reply": "2025-08-04T17:34:35.605356Z"
    }
   },
   "outputs": [],
   "source": [
    "ca = prince.CA(\n",
    "    n_components=3,\n",
    "    n_iter=3,\n",
    "    copy=True,\n",
    "    check_input=True,\n",
    "    engine='sklearn',\n",
    "    random_state=42\n",
    ")\n",
    "ca = ca.fit(dataset)"
   ]
  },
  {
   "attachments": {},
   "cell_type": "markdown",
   "metadata": {},
   "source": [
    "## Eigenvalues"
   ]
  },
  {
   "cell_type": "code",
   "execution_count": 3,
   "metadata": {
    "execution": {
     "iopub.execute_input": "2025-08-04T17:34:35.606985Z",
     "iopub.status.busy": "2025-08-04T17:34:35.606889Z",
     "iopub.status.idle": "2025-08-04T17:34:35.620637Z",
     "shell.execute_reply": "2025-08-04T17:34:35.620397Z"
    }
   },
   "outputs": [
    {
     "data": {
      "text/html": [
       "<div>\n",
       "<style scoped>\n",
       "    .dataframe tbody tr th:only-of-type {\n",
       "        vertical-align: middle;\n",
       "    }\n",
       "\n",
       "    .dataframe tbody tr th {\n",
       "        vertical-align: top;\n",
       "    }\n",
       "\n",
       "    .dataframe thead th {\n",
       "        text-align: right;\n",
       "    }\n",
       "</style>\n",
       "<table border=\"1\" class=\"dataframe\">\n",
       "  <thead>\n",
       "    <tr style=\"text-align: right;\">\n",
       "      <th></th>\n",
       "      <th>eigenvalue</th>\n",
       "      <th>% of variance</th>\n",
       "      <th>% of variance (cumulative)</th>\n",
       "    </tr>\n",
       "    <tr>\n",
       "      <th>component</th>\n",
       "      <th></th>\n",
       "      <th></th>\n",
       "      <th></th>\n",
       "    </tr>\n",
       "  </thead>\n",
       "  <tbody>\n",
       "    <tr>\n",
       "      <th>0</th>\n",
       "      <td>0.021</td>\n",
       "      <td>40.82%</td>\n",
       "      <td>40.82%</td>\n",
       "    </tr>\n",
       "    <tr>\n",
       "      <th>1</th>\n",
       "      <td>0.018</td>\n",
       "      <td>36.15%</td>\n",
       "      <td>76.97%</td>\n",
       "    </tr>\n",
       "    <tr>\n",
       "      <th>2</th>\n",
       "      <td>0.005</td>\n",
       "      <td>10.08%</td>\n",
       "      <td>87.04%</td>\n",
       "    </tr>\n",
       "  </tbody>\n",
       "</table>\n",
       "</div>"
      ],
      "text/plain": [
       "          eigenvalue % of variance % of variance (cumulative)\n",
       "component                                                    \n",
       "0              0.021        40.82%                     40.82%\n",
       "1              0.018        36.15%                     76.97%\n",
       "2              0.005        10.08%                     87.04%"
      ]
     },
     "execution_count": 3,
     "metadata": {},
     "output_type": "execute_result"
    }
   ],
   "source": [
    "ca.eigenvalues_summary"
   ]
  },
  {
   "attachments": {},
   "cell_type": "markdown",
   "metadata": {},
   "source": [
    "## Coordinates"
   ]
  },
  {
   "cell_type": "code",
   "execution_count": 4,
   "metadata": {
    "execution": {
     "iopub.execute_input": "2025-08-04T17:34:35.621847Z",
     "iopub.status.busy": "2025-08-04T17:34:35.621777Z",
     "iopub.status.idle": "2025-08-04T17:34:35.633787Z",
     "shell.execute_reply": "2025-08-04T17:34:35.633567Z"
    }
   },
   "outputs": [
    {
     "data": {
      "text/html": [
       "<div>\n",
       "<style scoped>\n",
       "    .dataframe tbody tr th:only-of-type {\n",
       "        vertical-align: middle;\n",
       "    }\n",
       "\n",
       "    .dataframe tbody tr th {\n",
       "        vertical-align: top;\n",
       "    }\n",
       "\n",
       "    .dataframe thead th {\n",
       "        text-align: right;\n",
       "    }\n",
       "</style>\n",
       "<table border=\"1\" class=\"dataframe\">\n",
       "  <thead>\n",
       "    <tr style=\"text-align: right;\">\n",
       "      <th></th>\n",
       "      <th>0</th>\n",
       "      <th>1</th>\n",
       "      <th>2</th>\n",
       "    </tr>\n",
       "    <tr>\n",
       "      <th>region</th>\n",
       "      <th></th>\n",
       "      <th></th>\n",
       "      <th></th>\n",
       "    </tr>\n",
       "  </thead>\n",
       "  <tbody>\n",
       "    <tr>\n",
       "      <th>Auvergne-Rhône-Alpes</th>\n",
       "      <td>-0.058638</td>\n",
       "      <td>0.038303</td>\n",
       "      <td>0.000937</td>\n",
       "    </tr>\n",
       "    <tr>\n",
       "      <th>Bourgogne-Franche-Comté</th>\n",
       "      <td>-0.070815</td>\n",
       "      <td>-0.077604</td>\n",
       "      <td>-0.016357</td>\n",
       "    </tr>\n",
       "    <tr>\n",
       "      <th>Bretagne</th>\n",
       "      <td>-0.083655</td>\n",
       "      <td>0.110491</td>\n",
       "      <td>-0.058991</td>\n",
       "    </tr>\n",
       "    <tr>\n",
       "      <th>Centre-Val de Loire</th>\n",
       "      <td>-0.024624</td>\n",
       "      <td>-0.055799</td>\n",
       "      <td>-0.046167</td>\n",
       "    </tr>\n",
       "    <tr>\n",
       "      <th>Corse</th>\n",
       "      <td>0.127370</td>\n",
       "      <td>-0.281755</td>\n",
       "      <td>0.279328</td>\n",
       "    </tr>\n",
       "  </tbody>\n",
       "</table>\n",
       "</div>"
      ],
      "text/plain": [
       "                                0         1         2\n",
       "region                                               \n",
       "Auvergne-Rhône-Alpes    -0.058638  0.038303  0.000937\n",
       "Bourgogne-Franche-Comté -0.070815 -0.077604 -0.016357\n",
       "Bretagne                -0.083655  0.110491 -0.058991\n",
       "Centre-Val de Loire     -0.024624 -0.055799 -0.046167\n",
       "Corse                    0.127370 -0.281755  0.279328"
      ]
     },
     "execution_count": 4,
     "metadata": {},
     "output_type": "execute_result"
    }
   ],
   "source": [
    "ca.row_coordinates(dataset).head()"
   ]
  },
  {
   "cell_type": "code",
   "execution_count": 5,
   "metadata": {
    "execution": {
     "iopub.execute_input": "2025-08-04T17:34:35.634915Z",
     "iopub.status.busy": "2025-08-04T17:34:35.634840Z",
     "iopub.status.idle": "2025-08-04T17:34:35.646907Z",
     "shell.execute_reply": "2025-08-04T17:34:35.646710Z"
    }
   },
   "outputs": [
    {
     "data": {
      "text/html": [
       "<div>\n",
       "<style scoped>\n",
       "    .dataframe tbody tr th:only-of-type {\n",
       "        vertical-align: middle;\n",
       "    }\n",
       "\n",
       "    .dataframe tbody tr th {\n",
       "        vertical-align: top;\n",
       "    }\n",
       "\n",
       "    .dataframe thead th {\n",
       "        text-align: right;\n",
       "    }\n",
       "</style>\n",
       "<table border=\"1\" class=\"dataframe\">\n",
       "  <thead>\n",
       "    <tr style=\"text-align: right;\">\n",
       "      <th></th>\n",
       "      <th>0</th>\n",
       "      <th>1</th>\n",
       "      <th>2</th>\n",
       "    </tr>\n",
       "    <tr>\n",
       "      <th>candidate</th>\n",
       "      <th></th>\n",
       "      <th></th>\n",
       "      <th></th>\n",
       "    </tr>\n",
       "  </thead>\n",
       "  <tbody>\n",
       "    <tr>\n",
       "      <th>Arthaud</th>\n",
       "      <td>-0.034732</td>\n",
       "      <td>-0.091291</td>\n",
       "      <td>-0.122722</td>\n",
       "    </tr>\n",
       "    <tr>\n",
       "      <th>Dupont-Aignan</th>\n",
       "      <td>-0.094708</td>\n",
       "      <td>-0.064696</td>\n",
       "      <td>-0.023546</td>\n",
       "    </tr>\n",
       "    <tr>\n",
       "      <th>Hidalgo</th>\n",
       "      <td>-0.137897</td>\n",
       "      <td>0.052846</td>\n",
       "      <td>0.101351</td>\n",
       "    </tr>\n",
       "    <tr>\n",
       "      <th>Jadot</th>\n",
       "      <td>-0.126228</td>\n",
       "      <td>0.188836</td>\n",
       "      <td>-0.031329</td>\n",
       "    </tr>\n",
       "    <tr>\n",
       "      <th>Lassalle</th>\n",
       "      <td>-0.271867</td>\n",
       "      <td>-0.091407</td>\n",
       "      <td>0.365112</td>\n",
       "    </tr>\n",
       "  </tbody>\n",
       "</table>\n",
       "</div>"
      ],
      "text/plain": [
       "                      0         1         2\n",
       "candidate                                  \n",
       "Arthaud       -0.034732 -0.091291 -0.122722\n",
       "Dupont-Aignan -0.094708 -0.064696 -0.023546\n",
       "Hidalgo       -0.137897  0.052846  0.101351\n",
       "Jadot         -0.126228  0.188836 -0.031329\n",
       "Lassalle      -0.271867 -0.091407  0.365112"
      ]
     },
     "execution_count": 5,
     "metadata": {},
     "output_type": "execute_result"
    }
   ],
   "source": [
    "ca.column_coordinates(dataset).head()"
   ]
  },
  {
   "attachments": {},
   "cell_type": "markdown",
   "metadata": {},
   "source": [
    "## Visualization"
   ]
  },
  {
   "cell_type": "code",
   "execution_count": 6,
   "metadata": {
    "execution": {
     "iopub.execute_input": "2025-08-04T17:34:35.648177Z",
     "iopub.status.busy": "2025-08-04T17:34:35.648100Z",
     "iopub.status.idle": "2025-08-04T17:34:35.721592Z",
     "shell.execute_reply": "2025-08-04T17:34:35.721363Z"
    }
   },
   "outputs": [
    {
     "data": {
      "text/html": [
       "\n",
       "<style>\n",
       "  #altair-viz-49c2d17f145e42d890cca6754e878288.vega-embed {\n",
       "    width: 100%;\n",
       "    display: flex;\n",
       "  }\n",
       "\n",
       "  #altair-viz-49c2d17f145e42d890cca6754e878288.vega-embed details,\n",
       "  #altair-viz-49c2d17f145e42d890cca6754e878288.vega-embed details summary {\n",
       "    position: relative;\n",
       "  }\n",
       "</style>\n",
       "<div id=\"altair-viz-49c2d17f145e42d890cca6754e878288\"></div>\n",
       "<script type=\"text/javascript\">\n",
       "  var VEGA_DEBUG = (typeof VEGA_DEBUG == \"undefined\") ? {} : VEGA_DEBUG;\n",
       "  (function(spec, embedOpt){\n",
       "    let outputDiv = document.currentScript.previousElementSibling;\n",
       "    if (outputDiv.id !== \"altair-viz-49c2d17f145e42d890cca6754e878288\") {\n",
       "      outputDiv = document.getElementById(\"altair-viz-49c2d17f145e42d890cca6754e878288\");\n",
       "    }\n",
       "\n",
       "    const paths = {\n",
       "      \"vega\": \"https://cdn.jsdelivr.net/npm/vega@5?noext\",\n",
       "      \"vega-lib\": \"https://cdn.jsdelivr.net/npm/vega-lib?noext\",\n",
       "      \"vega-lite\": \"https://cdn.jsdelivr.net/npm/vega-lite@5.20.1?noext\",\n",
       "      \"vega-embed\": \"https://cdn.jsdelivr.net/npm/vega-embed@6?noext\",\n",
       "    };\n",
       "\n",
       "    function maybeLoadScript(lib, version) {\n",
       "      var key = `${lib.replace(\"-\", \"\")}_version`;\n",
       "      return (VEGA_DEBUG[key] == version) ?\n",
       "        Promise.resolve(paths[lib]) :\n",
       "        new Promise(function(resolve, reject) {\n",
       "          var s = document.createElement('script');\n",
       "          document.getElementsByTagName(\"head\")[0].appendChild(s);\n",
       "          s.async = true;\n",
       "          s.onload = () => {\n",
       "            VEGA_DEBUG[key] = version;\n",
       "            return resolve(paths[lib]);\n",
       "          };\n",
       "          s.onerror = () => reject(`Error loading script: ${paths[lib]}`);\n",
       "          s.src = paths[lib];\n",
       "        });\n",
       "    }\n",
       "\n",
       "    function showError(err) {\n",
       "      outputDiv.innerHTML = `<div class=\"error\" style=\"color:red;\">${err}</div>`;\n",
       "      throw err;\n",
       "    }\n",
       "\n",
       "    function displayChart(vegaEmbed) {\n",
       "      vegaEmbed(outputDiv, spec, embedOpt)\n",
       "        .catch(err => showError(`Javascript Error: ${err.message}<br>This usually means there's a typo in your chart specification. See the javascript console for the full traceback.`));\n",
       "    }\n",
       "\n",
       "    if(typeof define === \"function\" && define.amd) {\n",
       "      requirejs.config({paths});\n",
       "      let deps = [\"vega-embed\"];\n",
       "      require(deps, displayChart, err => showError(`Error loading script: ${err.message}`));\n",
       "    } else {\n",
       "      maybeLoadScript(\"vega\", \"5\")\n",
       "        .then(() => maybeLoadScript(\"vega-lite\", \"5.20.1\"))\n",
       "        .then(() => maybeLoadScript(\"vega-embed\", \"6\"))\n",
       "        .catch(showError)\n",
       "        .then(() => displayChart(vegaEmbed));\n",
       "    }\n",
       "  })({\"config\": {\"view\": {\"continuousWidth\": 300, \"continuousHeight\": 300}}, \"layer\": [{\"data\": {\"name\": \"data-a789061bcddfec178503451247ea5815\"}, \"mark\": {\"type\": \"circle\", \"size\": 50}, \"encoding\": {\"color\": {\"field\": \"variable\", \"type\": \"nominal\"}, \"tooltip\": [{\"field\": \"variable\", \"type\": \"nominal\"}, {\"field\": \"value\", \"type\": \"nominal\"}, {\"field\": \"component 0\", \"type\": \"quantitative\"}, {\"field\": \"component 1\", \"type\": \"quantitative\"}], \"x\": {\"axis\": {\"title\": \"component 0 \\u2014 40.82%\"}, \"field\": \"component 0\", \"scale\": {\"zero\": false}, \"type\": \"quantitative\"}, \"y\": {\"axis\": {\"title\": \"component 1 \\u2014 36.15%\"}, \"field\": \"component 1\", \"scale\": {\"zero\": false}, \"type\": \"quantitative\"}}, \"name\": \"view_1\"}, {\"data\": {\"name\": \"data-043f4b595a47fd7649fbe84259b660dd\"}, \"mark\": {\"type\": \"circle\", \"size\": 50}, \"encoding\": {\"color\": {\"field\": \"variable\", \"type\": \"nominal\"}, \"tooltip\": [{\"field\": \"variable\", \"type\": \"nominal\"}, {\"field\": \"value\", \"type\": \"nominal\"}, {\"field\": \"component 0\", \"type\": \"quantitative\"}, {\"field\": \"component 1\", \"type\": \"quantitative\"}], \"x\": {\"axis\": {\"title\": \"component 0 \\u2014 40.82%\"}, \"field\": \"component 0\", \"scale\": {\"zero\": false}, \"type\": \"quantitative\"}, \"y\": {\"axis\": {\"title\": \"component 1 \\u2014 36.15%\"}, \"field\": \"component 1\", \"scale\": {\"zero\": false}, \"type\": \"quantitative\"}}}], \"params\": [{\"name\": \"param_1\", \"select\": {\"type\": \"interval\", \"encodings\": [\"x\", \"y\"]}, \"bind\": \"scales\", \"views\": [\"view_1\"]}], \"$schema\": \"https://vega.github.io/schema/vega-lite/v5.20.1.json\", \"datasets\": {\"data-a789061bcddfec178503451247ea5815\": [{\"component 0\": -0.05863780298801669, \"component 1\": 0.038303033682303755, \"component 2\": 0.0009370591424682793, \"variable\": \"region\", \"value\": \"Auvergne-Rh\\u00f4ne-Alpes\", \"label\": \"Auvergne-Rh\\u00f4ne-Alpes\"}, {\"component 0\": -0.07081540620096785, \"component 1\": -0.07760400138326735, \"component 2\": -0.01635719187176728, \"variable\": \"region\", \"value\": \"Bourgogne-Franche-Comt\\u00e9\", \"label\": \"Bourgogne-Franche-Comt\\u00e9\"}, {\"component 0\": -0.08365536312333352, \"component 1\": 0.11049076933986814, \"component 2\": -0.058991438966648053, \"variable\": \"region\", \"value\": \"Bretagne\", \"label\": \"Bretagne\"}, {\"component 0\": -0.024624010383987278, \"component 1\": -0.05579864652392624, \"component 2\": -0.04616715651751911, \"variable\": \"region\", \"value\": \"Centre-Val de Loire\", \"label\": \"Centre-Val de Loire\"}, {\"component 0\": 0.12737012338463047, \"component 1\": -0.28175489599778286, \"component 2\": 0.2793277167047682, \"variable\": \"region\", \"value\": \"Corse\", \"label\": \"Corse\"}, {\"component 0\": -0.013450030921762356, \"component 1\": -0.13027486769172386, \"component 2\": -0.05447792181037084, \"variable\": \"region\", \"value\": \"Grand Est\", \"label\": \"Grand Est\"}, {\"component 0\": 0.8189510679942225, \"component 1\": -0.08691997985451895, \"component 2\": 0.08440370708450616, \"variable\": \"region\", \"value\": \"Guadeloupe\", \"label\": \"Guadeloupe\"}, {\"component 0\": 0.9093838803301525, \"component 1\": -0.19508706056849304, \"component 2\": 0.07489315003172957, \"variable\": \"region\", \"value\": \"Guyane\", \"label\": \"Guyane\"}, {\"component 0\": 0.013732211529156378, \"component 1\": -0.19010506642745548, \"component 2\": -0.07755899210438835, \"variable\": \"region\", \"value\": \"Hauts-de-France\", \"label\": \"Hauts-de-France\"}, {\"component 0\": 0.5699784467809031, \"component 1\": -0.12620139384006895, \"component 2\": 0.03332813659033037, \"variable\": \"region\", \"value\": \"La R\\u00e9union\", \"label\": \"La R\\u00e9union\"}, {\"component 0\": 0.8306524508683516, \"component 1\": -0.08346172586634182, \"component 2\": 0.07815647282613748, \"variable\": \"region\", \"value\": \"Martinique\", \"label\": \"Martinique\"}, {\"component 0\": 0.7144022982162037, \"component 1\": -0.4100858633003472, \"component 2\": -0.0628874301312667, \"variable\": \"region\", \"value\": \"Mayotte\", \"label\": \"Mayotte\"}, {\"component 0\": -0.035428763095081396, \"component 1\": -0.06746561826077277, \"component 2\": -0.07505732058608086, \"variable\": \"region\", \"value\": \"Normandie\", \"label\": \"Normandie\"}, {\"component 0\": -0.11050741584453636, \"component 1\": -0.004011695300169784, \"component 2\": 0.0979715942993187, \"variable\": \"region\", \"value\": \"Nouvelle-Aquitaine\", \"label\": \"Nouvelle-Aquitaine\"}, {\"component 0\": -0.07859242844479206, \"component 1\": -0.033316506689969126, \"component 2\": 0.1403946739008728, \"variable\": \"region\", \"value\": \"Occitanie\", \"label\": \"Occitanie\"}, {\"component 0\": -0.05614440291568979, \"component 1\": 0.07216106309919265, \"component 2\": -0.08608779354506202, \"variable\": \"region\", \"value\": \"Pays de la Loire\", \"label\": \"Pays de la Loire\"}, {\"component 0\": 0.011439418072918954, \"component 1\": -0.10658768661368039, \"component 2\": 0.029796011603662978, \"variable\": \"region\", \"value\": \"Provence-Alpes-C\\u00f4te d'Azur\", \"label\": \"Provence-Alpes-C\\u00f4te d'Azur\"}, {\"component 0\": 0.09161017774209049, \"component 1\": 0.25105660076493125, \"component 2\": -0.008996533461299177, \"variable\": \"region\", \"value\": \"\\u00cele-de-France\", \"label\": \"\\u00cele-de-France\"}], \"data-043f4b595a47fd7649fbe84259b660dd\": [{\"component 0\": -0.03473175701649945, \"component 1\": -0.09129069808968156, \"component 2\": -0.12272236550701475, \"variable\": \"candidate\", \"value\": \"Arthaud\", \"label\": \"Arthaud\"}, {\"component 0\": -0.09470816476067682, \"component 1\": -0.06469559978922391, \"component 2\": -0.02354582539132103, \"variable\": \"candidate\", \"value\": \"Dupont-Aignan\", \"label\": \"Dupont-Aignan\"}, {\"component 0\": -0.13789664410966396, \"component 1\": 0.052846144209970455, \"component 2\": 0.10135116000373558, \"variable\": \"candidate\", \"value\": \"Hidalgo\", \"label\": \"Hidalgo\"}, {\"component 0\": -0.12622833356116886, \"component 1\": 0.1888359673722401, \"component 2\": -0.03132921446867944, \"variable\": \"candidate\", \"value\": \"Jadot\", \"label\": \"Jadot\"}, {\"component 0\": -0.271867049598216, \"component 1\": -0.09140713874793138, \"component 2\": 0.3651116056020221, \"variable\": \"candidate\", \"value\": \"Lassalle\", \"label\": \"Lassalle\"}, {\"component 0\": -0.11705635918325442, \"component 1\": -0.2156792403202122, \"component 2\": -0.03247599276352832, \"variable\": \"candidate\", \"value\": \"Le Pen\", \"label\": \"Le Pen\"}, {\"component 0\": -0.1060267127119684, \"component 1\": 0.1021986192006921, \"component 2\": -0.0656561284223039, \"variable\": \"candidate\", \"value\": \"Macron\", \"label\": \"Macron\"}, {\"component 0\": 0.09049166378851457, \"component 1\": 0.16251682008581841, \"component 2\": 0.04194401484185867, \"variable\": \"candidate\", \"value\": \"M\\u00e9lenchon\", \"label\": \"M\\u00e9lenchon\"}, {\"component 0\": -0.12418309730025912, \"component 1\": -0.010074260227207458, \"component 2\": -0.00808246428438522, \"variable\": \"candidate\", \"value\": \"Poutou\", \"label\": \"Poutou\"}, {\"component 0\": -0.06281907093170778, \"component 1\": 0.163859848221079, \"component 2\": -0.020856517055489694, \"variable\": \"candidate\", \"value\": \"P\\u00e9cresse\", \"label\": \"P\\u00e9cresse\"}, {\"component 0\": -0.17160912725900224, \"component 1\": -0.03466484400459733, \"component 2\": 0.01832769271833647, \"variable\": \"candidate\", \"value\": \"Roussel\", \"label\": \"Roussel\"}, {\"component 0\": -0.09180172598570438, \"component 1\": 0.008808114295821335, \"component 2\": 0.0895731587860012, \"variable\": \"candidate\", \"value\": \"Zemmour\", \"label\": \"Zemmour\"}, {\"component 0\": 0.2106832275207777, \"component 1\": -0.07726647824246739, \"component 2\": 0.0009627111513000015, \"variable\": \"candidate\", \"value\": \"Abstention\", \"label\": \"Abstention\"}, {\"component 0\": -0.04077891115434203, \"component 1\": 0.012151459979702506, \"component 2\": -0.016377271855960756, \"variable\": \"candidate\", \"value\": \"Blank\", \"label\": \"Blank\"}]}}, {\"mode\": \"vega-lite\"});\n",
       "</script>"
      ],
      "text/plain": [
       "alt.LayerChart(...)"
      ]
     },
     "execution_count": 6,
     "metadata": {},
     "output_type": "execute_result"
    }
   ],
   "source": [
    "ca.plot(\n",
    "    dataset,\n",
    "    x_component=0,\n",
    "    y_component=1,\n",
    "    show_row_markers=True,\n",
    "    show_column_markers=True,\n",
    "    show_row_labels=False,\n",
    "    show_column_labels=False\n",
    ")"
   ]
  },
  {
   "cell_type": "code",
   "execution_count": 7,
   "metadata": {
    "execution": {
     "iopub.execute_input": "2025-08-04T17:34:35.722797Z",
     "iopub.status.busy": "2025-08-04T17:34:35.722698Z",
     "iopub.status.idle": "2025-08-04T17:34:35.752327Z",
     "shell.execute_reply": "2025-08-04T17:34:35.752096Z"
    }
   },
   "outputs": [
    {
     "data": {
      "text/html": [
       "\n",
       "<style>\n",
       "  #altair-viz-4109748c8da84bb08c4ba9d5c8e5be1a.vega-embed {\n",
       "    width: 100%;\n",
       "    display: flex;\n",
       "  }\n",
       "\n",
       "  #altair-viz-4109748c8da84bb08c4ba9d5c8e5be1a.vega-embed details,\n",
       "  #altair-viz-4109748c8da84bb08c4ba9d5c8e5be1a.vega-embed details summary {\n",
       "    position: relative;\n",
       "  }\n",
       "</style>\n",
       "<div id=\"altair-viz-4109748c8da84bb08c4ba9d5c8e5be1a\"></div>\n",
       "<script type=\"text/javascript\">\n",
       "  var VEGA_DEBUG = (typeof VEGA_DEBUG == \"undefined\") ? {} : VEGA_DEBUG;\n",
       "  (function(spec, embedOpt){\n",
       "    let outputDiv = document.currentScript.previousElementSibling;\n",
       "    if (outputDiv.id !== \"altair-viz-4109748c8da84bb08c4ba9d5c8e5be1a\") {\n",
       "      outputDiv = document.getElementById(\"altair-viz-4109748c8da84bb08c4ba9d5c8e5be1a\");\n",
       "    }\n",
       "\n",
       "    const paths = {\n",
       "      \"vega\": \"https://cdn.jsdelivr.net/npm/vega@5?noext\",\n",
       "      \"vega-lib\": \"https://cdn.jsdelivr.net/npm/vega-lib?noext\",\n",
       "      \"vega-lite\": \"https://cdn.jsdelivr.net/npm/vega-lite@5.20.1?noext\",\n",
       "      \"vega-embed\": \"https://cdn.jsdelivr.net/npm/vega-embed@6?noext\",\n",
       "    };\n",
       "\n",
       "    function maybeLoadScript(lib, version) {\n",
       "      var key = `${lib.replace(\"-\", \"\")}_version`;\n",
       "      return (VEGA_DEBUG[key] == version) ?\n",
       "        Promise.resolve(paths[lib]) :\n",
       "        new Promise(function(resolve, reject) {\n",
       "          var s = document.createElement('script');\n",
       "          document.getElementsByTagName(\"head\")[0].appendChild(s);\n",
       "          s.async = true;\n",
       "          s.onload = () => {\n",
       "            VEGA_DEBUG[key] = version;\n",
       "            return resolve(paths[lib]);\n",
       "          };\n",
       "          s.onerror = () => reject(`Error loading script: ${paths[lib]}`);\n",
       "          s.src = paths[lib];\n",
       "        });\n",
       "    }\n",
       "\n",
       "    function showError(err) {\n",
       "      outputDiv.innerHTML = `<div class=\"error\" style=\"color:red;\">${err}</div>`;\n",
       "      throw err;\n",
       "    }\n",
       "\n",
       "    function displayChart(vegaEmbed) {\n",
       "      vegaEmbed(outputDiv, spec, embedOpt)\n",
       "        .catch(err => showError(`Javascript Error: ${err.message}<br>This usually means there's a typo in your chart specification. See the javascript console for the full traceback.`));\n",
       "    }\n",
       "\n",
       "    if(typeof define === \"function\" && define.amd) {\n",
       "      requirejs.config({paths});\n",
       "      let deps = [\"vega-embed\"];\n",
       "      require(deps, displayChart, err => showError(`Error loading script: ${err.message}`));\n",
       "    } else {\n",
       "      maybeLoadScript(\"vega\", \"5\")\n",
       "        .then(() => maybeLoadScript(\"vega-lite\", \"5.20.1\"))\n",
       "        .then(() => maybeLoadScript(\"vega-embed\", \"6\"))\n",
       "        .catch(showError)\n",
       "        .then(() => displayChart(vegaEmbed));\n",
       "    }\n",
       "  })({\"config\": {\"view\": {\"continuousWidth\": 300, \"continuousHeight\": 300}}, \"layer\": [{\"mark\": {\"type\": \"circle\", \"size\": 0}, \"encoding\": {\"color\": {\"field\": \"variable\", \"type\": \"nominal\"}, \"tooltip\": [{\"field\": \"variable\", \"type\": \"nominal\"}, {\"field\": \"value\", \"type\": \"nominal\"}, {\"field\": \"component 0\", \"type\": \"quantitative\"}, {\"field\": \"component 1\", \"type\": \"quantitative\"}], \"x\": {\"axis\": {\"title\": \"component 0 \\u2014 40.82%\"}, \"field\": \"component 0\", \"scale\": {\"zero\": false}, \"type\": \"quantitative\"}, \"y\": {\"axis\": {\"title\": \"component 1 \\u2014 36.15%\"}, \"field\": \"component 1\", \"scale\": {\"zero\": false}, \"type\": \"quantitative\"}}, \"name\": \"view_2\"}, {\"mark\": {\"type\": \"text\"}, \"encoding\": {\"text\": {\"field\": \"label\", \"type\": \"nominal\"}, \"x\": {\"axis\": {\"title\": \"component 0 \\u2014 40.82%\"}, \"field\": \"component 0\", \"scale\": {\"zero\": false}, \"type\": \"quantitative\"}, \"y\": {\"axis\": {\"title\": \"component 1 \\u2014 36.15%\"}, \"field\": \"component 1\", \"scale\": {\"zero\": false}, \"type\": \"quantitative\"}}}], \"data\": {\"name\": \"data-043f4b595a47fd7649fbe84259b660dd\"}, \"params\": [{\"name\": \"param_2\", \"select\": {\"type\": \"interval\", \"encodings\": [\"x\", \"y\"]}, \"bind\": \"scales\", \"views\": [\"view_2\"]}], \"$schema\": \"https://vega.github.io/schema/vega-lite/v5.20.1.json\", \"datasets\": {\"data-043f4b595a47fd7649fbe84259b660dd\": [{\"component 0\": -0.03473175701649945, \"component 1\": -0.09129069808968156, \"component 2\": -0.12272236550701475, \"variable\": \"candidate\", \"value\": \"Arthaud\", \"label\": \"Arthaud\"}, {\"component 0\": -0.09470816476067682, \"component 1\": -0.06469559978922391, \"component 2\": -0.02354582539132103, \"variable\": \"candidate\", \"value\": \"Dupont-Aignan\", \"label\": \"Dupont-Aignan\"}, {\"component 0\": -0.13789664410966396, \"component 1\": 0.052846144209970455, \"component 2\": 0.10135116000373558, \"variable\": \"candidate\", \"value\": \"Hidalgo\", \"label\": \"Hidalgo\"}, {\"component 0\": -0.12622833356116886, \"component 1\": 0.1888359673722401, \"component 2\": -0.03132921446867944, \"variable\": \"candidate\", \"value\": \"Jadot\", \"label\": \"Jadot\"}, {\"component 0\": -0.271867049598216, \"component 1\": -0.09140713874793138, \"component 2\": 0.3651116056020221, \"variable\": \"candidate\", \"value\": \"Lassalle\", \"label\": \"Lassalle\"}, {\"component 0\": -0.11705635918325442, \"component 1\": -0.2156792403202122, \"component 2\": -0.03247599276352832, \"variable\": \"candidate\", \"value\": \"Le Pen\", \"label\": \"Le Pen\"}, {\"component 0\": -0.1060267127119684, \"component 1\": 0.1021986192006921, \"component 2\": -0.0656561284223039, \"variable\": \"candidate\", \"value\": \"Macron\", \"label\": \"Macron\"}, {\"component 0\": 0.09049166378851457, \"component 1\": 0.16251682008581841, \"component 2\": 0.04194401484185867, \"variable\": \"candidate\", \"value\": \"M\\u00e9lenchon\", \"label\": \"M\\u00e9lenchon\"}, {\"component 0\": -0.12418309730025912, \"component 1\": -0.010074260227207458, \"component 2\": -0.00808246428438522, \"variable\": \"candidate\", \"value\": \"Poutou\", \"label\": \"Poutou\"}, {\"component 0\": -0.06281907093170778, \"component 1\": 0.163859848221079, \"component 2\": -0.020856517055489694, \"variable\": \"candidate\", \"value\": \"P\\u00e9cresse\", \"label\": \"P\\u00e9cresse\"}, {\"component 0\": -0.17160912725900224, \"component 1\": -0.03466484400459733, \"component 2\": 0.01832769271833647, \"variable\": \"candidate\", \"value\": \"Roussel\", \"label\": \"Roussel\"}, {\"component 0\": -0.09180172598570438, \"component 1\": 0.008808114295821335, \"component 2\": 0.0895731587860012, \"variable\": \"candidate\", \"value\": \"Zemmour\", \"label\": \"Zemmour\"}, {\"component 0\": 0.2106832275207777, \"component 1\": -0.07726647824246739, \"component 2\": 0.0009627111513000015, \"variable\": \"candidate\", \"value\": \"Abstention\", \"label\": \"Abstention\"}, {\"component 0\": -0.04077891115434203, \"component 1\": 0.012151459979702506, \"component 2\": -0.016377271855960756, \"variable\": \"candidate\", \"value\": \"Blank\", \"label\": \"Blank\"}]}}, {\"mode\": \"vega-lite\"});\n",
       "</script>"
      ],
      "text/plain": [
       "alt.LayerChart(...)"
      ]
     },
     "execution_count": 7,
     "metadata": {},
     "output_type": "execute_result"
    }
   ],
   "source": [
    "ca.plot(\n",
    "    dataset,\n",
    "    x_component=0,\n",
    "    y_component=1,\n",
    "    show_row_markers=False,\n",
    "    show_column_markers=False,\n",
    "    show_row_labels=False,\n",
    "    show_column_labels=True\n",
    ")"
   ]
  },
  {
   "attachments": {},
   "cell_type": "markdown",
   "metadata": {},
   "source": [
    "## Contributions"
   ]
  },
  {
   "cell_type": "code",
   "execution_count": 8,
   "metadata": {
    "execution": {
     "iopub.execute_input": "2025-08-04T17:34:35.753648Z",
     "iopub.status.busy": "2025-08-04T17:34:35.753574Z",
     "iopub.status.idle": "2025-08-04T17:34:35.796569Z",
     "shell.execute_reply": "2025-08-04T17:34:35.796314Z"
    }
   },
   "outputs": [
    {
     "data": {
      "text/html": [
       "<style type=\"text/css\">\n",
       "</style>\n",
       "<table id=\"T_a3ca7\">\n",
       "  <thead>\n",
       "    <tr>\n",
       "      <th class=\"blank level0\" >&nbsp;</th>\n",
       "      <th id=\"T_a3ca7_level0_col0\" class=\"col_heading level0 col0\" >0</th>\n",
       "      <th id=\"T_a3ca7_level0_col1\" class=\"col_heading level0 col1\" >1</th>\n",
       "      <th id=\"T_a3ca7_level0_col2\" class=\"col_heading level0 col2\" >2</th>\n",
       "    </tr>\n",
       "  </thead>\n",
       "  <tbody>\n",
       "    <tr>\n",
       "      <th id=\"T_a3ca7_level0_row0\" class=\"row_heading level0 row0\" >Auvergne-Rhône-Alpes</th>\n",
       "      <td id=\"T_a3ca7_row0_col0\" class=\"data row0 col0\" >2%</td>\n",
       "      <td id=\"T_a3ca7_row0_col1\" class=\"data row0 col1\" >1%</td>\n",
       "      <td id=\"T_a3ca7_row0_col2\" class=\"data row0 col2\" >0%</td>\n",
       "    </tr>\n",
       "    <tr>\n",
       "      <th id=\"T_a3ca7_level0_row1\" class=\"row_heading level0 row1\" >Bourgogne-Franche-Comté</th>\n",
       "      <td id=\"T_a3ca7_row1_col0\" class=\"data row1 col0\" >1%</td>\n",
       "      <td id=\"T_a3ca7_row1_col1\" class=\"data row1 col1\" >1%</td>\n",
       "      <td id=\"T_a3ca7_row1_col2\" class=\"data row1 col2\" >0%</td>\n",
       "    </tr>\n",
       "    <tr>\n",
       "      <th id=\"T_a3ca7_level0_row2\" class=\"row_heading level0 row2\" >Bretagne</th>\n",
       "      <td id=\"T_a3ca7_row2_col0\" class=\"data row2 col0\" >2%</td>\n",
       "      <td id=\"T_a3ca7_row2_col1\" class=\"data row2 col1\" >4%</td>\n",
       "      <td id=\"T_a3ca7_row2_col2\" class=\"data row2 col2\" >4%</td>\n",
       "    </tr>\n",
       "    <tr>\n",
       "      <th id=\"T_a3ca7_level0_row3\" class=\"row_heading level0 row3\" >Centre-Val de Loire</th>\n",
       "      <td id=\"T_a3ca7_row3_col0\" class=\"data row3 col0\" >0%</td>\n",
       "      <td id=\"T_a3ca7_row3_col1\" class=\"data row3 col1\" >1%</td>\n",
       "      <td id=\"T_a3ca7_row3_col2\" class=\"data row3 col2\" >2%</td>\n",
       "    </tr>\n",
       "    <tr>\n",
       "      <th id=\"T_a3ca7_level0_row4\" class=\"row_heading level0 row4\" >Corse</th>\n",
       "      <td id=\"T_a3ca7_row4_col0\" class=\"data row4 col0\" >0%</td>\n",
       "      <td id=\"T_a3ca7_row4_col1\" class=\"data row4 col1\" >2%</td>\n",
       "      <td id=\"T_a3ca7_row4_col2\" class=\"data row4 col2\" >8%</td>\n",
       "    </tr>\n",
       "  </tbody>\n",
       "</table>\n"
      ],
      "text/plain": [
       "<pandas.io.formats.style.Styler at 0x10df1d6a0>"
      ]
     },
     "execution_count": 8,
     "metadata": {},
     "output_type": "execute_result"
    }
   ],
   "source": [
    "ca.row_contributions_.head().style.format('{:.0%}')"
   ]
  },
  {
   "cell_type": "code",
   "execution_count": 9,
   "metadata": {
    "execution": {
     "iopub.execute_input": "2025-08-04T17:34:35.797811Z",
     "iopub.status.busy": "2025-08-04T17:34:35.797714Z",
     "iopub.status.idle": "2025-08-04T17:34:35.810153Z",
     "shell.execute_reply": "2025-08-04T17:34:35.809898Z"
    }
   },
   "outputs": [
    {
     "data": {
      "text/html": [
       "<style type=\"text/css\">\n",
       "</style>\n",
       "<table id=\"T_3ac32\">\n",
       "  <thead>\n",
       "    <tr>\n",
       "      <th class=\"blank level0\" >&nbsp;</th>\n",
       "      <th id=\"T_3ac32_level0_col0\" class=\"col_heading level0 col0\" >0</th>\n",
       "      <th id=\"T_3ac32_level0_col1\" class=\"col_heading level0 col1\" >1</th>\n",
       "      <th id=\"T_3ac32_level0_col2\" class=\"col_heading level0 col2\" >2</th>\n",
       "    </tr>\n",
       "  </thead>\n",
       "  <tbody>\n",
       "    <tr>\n",
       "      <th id=\"T_3ac32_level0_row0\" class=\"row_heading level0 row0\" >Arthaud</th>\n",
       "      <td id=\"T_3ac32_row0_col0\" class=\"data row0 col0\" >0%</td>\n",
       "      <td id=\"T_3ac32_row0_col1\" class=\"data row0 col1\" >0%</td>\n",
       "      <td id=\"T_3ac32_row0_col2\" class=\"data row0 col2\" >1%</td>\n",
       "    </tr>\n",
       "    <tr>\n",
       "      <th id=\"T_3ac32_level0_row1\" class=\"row_heading level0 row1\" >Dupont-Aignan</th>\n",
       "      <td id=\"T_3ac32_row1_col0\" class=\"data row1 col0\" >1%</td>\n",
       "      <td id=\"T_3ac32_row1_col1\" class=\"data row1 col1\" >0%</td>\n",
       "      <td id=\"T_3ac32_row1_col2\" class=\"data row1 col2\" >0%</td>\n",
       "    </tr>\n",
       "    <tr>\n",
       "      <th id=\"T_3ac32_level0_row2\" class=\"row_heading level0 row2\" >Hidalgo</th>\n",
       "      <td id=\"T_3ac32_row2_col0\" class=\"data row2 col0\" >1%</td>\n",
       "      <td id=\"T_3ac32_row2_col1\" class=\"data row2 col1\" >0%</td>\n",
       "      <td id=\"T_3ac32_row2_col2\" class=\"data row2 col2\" >3%</td>\n",
       "    </tr>\n",
       "    <tr>\n",
       "      <th id=\"T_3ac32_level0_row3\" class=\"row_heading level0 row3\" >Jadot</th>\n",
       "      <td id=\"T_3ac32_row3_col0\" class=\"data row3 col0\" >3%</td>\n",
       "      <td id=\"T_3ac32_row3_col1\" class=\"data row3 col1\" >7%</td>\n",
       "      <td id=\"T_3ac32_row3_col2\" class=\"data row3 col2\" >1%</td>\n",
       "    </tr>\n",
       "    <tr>\n",
       "      <th id=\"T_3ac32_level0_row4\" class=\"row_heading level0 row4\" >Lassalle</th>\n",
       "      <td id=\"T_3ac32_row4_col0\" class=\"data row4 col0\" >8%</td>\n",
       "      <td id=\"T_3ac32_row4_col1\" class=\"data row4 col1\" >1%</td>\n",
       "      <td id=\"T_3ac32_row4_col2\" class=\"data row4 col2\" >61%</td>\n",
       "    </tr>\n",
       "  </tbody>\n",
       "</table>\n"
      ],
      "text/plain": [
       "<pandas.io.formats.style.Styler at 0x10df0df90>"
      ]
     },
     "execution_count": 9,
     "metadata": {},
     "output_type": "execute_result"
    }
   ],
   "source": [
    "ca.column_contributions_.head().style.format('{:.0%}')"
   ]
  },
  {
   "attachments": {},
   "cell_type": "markdown",
   "metadata": {},
   "source": [
    "## Cosine similarities"
   ]
  },
  {
   "cell_type": "code",
   "execution_count": 10,
   "metadata": {
    "execution": {
     "iopub.execute_input": "2025-08-04T17:34:35.811470Z",
     "iopub.status.busy": "2025-08-04T17:34:35.811396Z",
     "iopub.status.idle": "2025-08-04T17:34:35.824635Z",
     "shell.execute_reply": "2025-08-04T17:34:35.824406Z"
    }
   },
   "outputs": [
    {
     "data": {
      "text/html": [
       "<div>\n",
       "<style scoped>\n",
       "    .dataframe tbody tr th:only-of-type {\n",
       "        vertical-align: middle;\n",
       "    }\n",
       "\n",
       "    .dataframe tbody tr th {\n",
       "        vertical-align: top;\n",
       "    }\n",
       "\n",
       "    .dataframe thead th {\n",
       "        text-align: right;\n",
       "    }\n",
       "</style>\n",
       "<table border=\"1\" class=\"dataframe\">\n",
       "  <thead>\n",
       "    <tr style=\"text-align: right;\">\n",
       "      <th></th>\n",
       "      <th>0</th>\n",
       "      <th>1</th>\n",
       "      <th>2</th>\n",
       "    </tr>\n",
       "    <tr>\n",
       "      <th>region</th>\n",
       "      <th></th>\n",
       "      <th></th>\n",
       "      <th></th>\n",
       "    </tr>\n",
       "  </thead>\n",
       "  <tbody>\n",
       "    <tr>\n",
       "      <th>Auvergne-Rhône-Alpes</th>\n",
       "      <td>0.568331</td>\n",
       "      <td>0.242500</td>\n",
       "      <td>0.000145</td>\n",
       "    </tr>\n",
       "    <tr>\n",
       "      <th>Bourgogne-Franche-Comté</th>\n",
       "      <td>0.365626</td>\n",
       "      <td>0.439086</td>\n",
       "      <td>0.019507</td>\n",
       "    </tr>\n",
       "    <tr>\n",
       "      <th>Bretagne</th>\n",
       "      <td>0.212706</td>\n",
       "      <td>0.371061</td>\n",
       "      <td>0.105772</td>\n",
       "    </tr>\n",
       "    <tr>\n",
       "      <th>Centre-Val de Loire</th>\n",
       "      <td>0.076356</td>\n",
       "      <td>0.392078</td>\n",
       "      <td>0.268406</td>\n",
       "    </tr>\n",
       "    <tr>\n",
       "      <th>Corse</th>\n",
       "      <td>0.066825</td>\n",
       "      <td>0.327001</td>\n",
       "      <td>0.321391</td>\n",
       "    </tr>\n",
       "  </tbody>\n",
       "</table>\n",
       "</div>"
      ],
      "text/plain": [
       "                                0         1         2\n",
       "region                                               \n",
       "Auvergne-Rhône-Alpes     0.568331  0.242500  0.000145\n",
       "Bourgogne-Franche-Comté  0.365626  0.439086  0.019507\n",
       "Bretagne                 0.212706  0.371061  0.105772\n",
       "Centre-Val de Loire      0.076356  0.392078  0.268406\n",
       "Corse                    0.066825  0.327001  0.321391"
      ]
     },
     "execution_count": 10,
     "metadata": {},
     "output_type": "execute_result"
    }
   ],
   "source": [
    "ca.row_cosine_similarities(dataset).head()"
   ]
  },
  {
   "cell_type": "code",
   "execution_count": 11,
   "metadata": {
    "execution": {
     "iopub.execute_input": "2025-08-04T17:34:35.825860Z",
     "iopub.status.busy": "2025-08-04T17:34:35.825786Z",
     "iopub.status.idle": "2025-08-04T17:34:35.839434Z",
     "shell.execute_reply": "2025-08-04T17:34:35.839212Z"
    }
   },
   "outputs": [
    {
     "data": {
      "text/html": [
       "<div>\n",
       "<style scoped>\n",
       "    .dataframe tbody tr th:only-of-type {\n",
       "        vertical-align: middle;\n",
       "    }\n",
       "\n",
       "    .dataframe tbody tr th {\n",
       "        vertical-align: top;\n",
       "    }\n",
       "\n",
       "    .dataframe thead th {\n",
       "        text-align: right;\n",
       "    }\n",
       "</style>\n",
       "<table border=\"1\" class=\"dataframe\">\n",
       "  <thead>\n",
       "    <tr style=\"text-align: right;\">\n",
       "      <th></th>\n",
       "      <th>0</th>\n",
       "      <th>1</th>\n",
       "      <th>2</th>\n",
       "    </tr>\n",
       "    <tr>\n",
       "      <th>candidate</th>\n",
       "      <th></th>\n",
       "      <th></th>\n",
       "      <th></th>\n",
       "    </tr>\n",
       "  </thead>\n",
       "  <tbody>\n",
       "    <tr>\n",
       "      <th>Arthaud</th>\n",
       "      <td>0.024619</td>\n",
       "      <td>0.170088</td>\n",
       "      <td>0.307375</td>\n",
       "    </tr>\n",
       "    <tr>\n",
       "      <th>Dupont-Aignan</th>\n",
       "      <td>0.305277</td>\n",
       "      <td>0.142452</td>\n",
       "      <td>0.018869</td>\n",
       "    </tr>\n",
       "    <tr>\n",
       "      <th>Hidalgo</th>\n",
       "      <td>0.292428</td>\n",
       "      <td>0.042947</td>\n",
       "      <td>0.157968</td>\n",
       "    </tr>\n",
       "    <tr>\n",
       "      <th>Jadot</th>\n",
       "      <td>0.265642</td>\n",
       "      <td>0.594500</td>\n",
       "      <td>0.016364</td>\n",
       "    </tr>\n",
       "    <tr>\n",
       "      <th>Lassalle</th>\n",
       "      <td>0.307040</td>\n",
       "      <td>0.034709</td>\n",
       "      <td>0.553774</td>\n",
       "    </tr>\n",
       "  </tbody>\n",
       "</table>\n",
       "</div>"
      ],
      "text/plain": [
       "                      0         1         2\n",
       "candidate                                  \n",
       "Arthaud        0.024619  0.170088  0.307375\n",
       "Dupont-Aignan  0.305277  0.142452  0.018869\n",
       "Hidalgo        0.292428  0.042947  0.157968\n",
       "Jadot          0.265642  0.594500  0.016364\n",
       "Lassalle       0.307040  0.034709  0.553774"
      ]
     },
     "execution_count": 11,
     "metadata": {},
     "output_type": "execute_result"
    }
   ],
   "source": [
    "ca.column_cosine_similarities(dataset).head()"
   ]
  }
 ],
 "metadata": {
  "kernelspec": {
   "display_name": ".venv",
   "language": "python",
   "name": "python3"
  },
  "language_info": {
   "codemirror_mode": {
    "name": "ipython",
    "version": 3
   },
   "file_extension": ".py",
   "mimetype": "text/x-python",
   "name": "python",
   "nbconvert_exporter": "python",
   "pygments_lexer": "ipython3",
   "version": "3.13.3"
  },
  "vscode": {
   "interpreter": {
    "hash": "441c2ec70d9faeb70e7723f55150c6260f4a26a9c828b90915d3399002e14f43"
   }
  }
 },
 "nbformat": 4,
 "nbformat_minor": 2
}
